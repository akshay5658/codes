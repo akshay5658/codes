{
 "cells": [
  {
   "cell_type": "code",
   "execution_count": 1,
   "metadata": {},
   "outputs": [],
   "source": [
    "import numpy as np\n",
    "import pandas as pd\n",
    "import matplotlib.pyplot as plt\n",
    "import seaborn as sns"
   ]
  },
  {
   "cell_type": "code",
   "execution_count": 2,
   "metadata": {},
   "outputs": [],
   "source": [
    "data=pd.read_csv('Mall_Customers.csv')"
   ]
  },
  {
   "cell_type": "code",
   "execution_count": 3,
   "metadata": {},
   "outputs": [],
   "source": [
    "data1=data.iloc[:,3:5] "
   ]
  },
  {
   "cell_type": "code",
   "execution_count": 4,
   "metadata": {},
   "outputs": [
    {
     "data": {
      "text/html": [
       "<div>\n",
       "<style scoped>\n",
       "    .dataframe tbody tr th:only-of-type {\n",
       "        vertical-align: middle;\n",
       "    }\n",
       "\n",
       "    .dataframe tbody tr th {\n",
       "        vertical-align: top;\n",
       "    }\n",
       "\n",
       "    .dataframe thead th {\n",
       "        text-align: right;\n",
       "    }\n",
       "</style>\n",
       "<table border=\"1\" class=\"dataframe\">\n",
       "  <thead>\n",
       "    <tr style=\"text-align: right;\">\n",
       "      <th></th>\n",
       "      <th>Annual Income (k$)</th>\n",
       "      <th>Spending Score (1-100)</th>\n",
       "    </tr>\n",
       "  </thead>\n",
       "  <tbody>\n",
       "    <tr>\n",
       "      <th>0</th>\n",
       "      <td>15</td>\n",
       "      <td>39</td>\n",
       "    </tr>\n",
       "    <tr>\n",
       "      <th>1</th>\n",
       "      <td>15</td>\n",
       "      <td>81</td>\n",
       "    </tr>\n",
       "    <tr>\n",
       "      <th>2</th>\n",
       "      <td>16</td>\n",
       "      <td>6</td>\n",
       "    </tr>\n",
       "    <tr>\n",
       "      <th>3</th>\n",
       "      <td>16</td>\n",
       "      <td>77</td>\n",
       "    </tr>\n",
       "    <tr>\n",
       "      <th>4</th>\n",
       "      <td>17</td>\n",
       "      <td>40</td>\n",
       "    </tr>\n",
       "  </tbody>\n",
       "</table>\n",
       "</div>"
      ],
      "text/plain": [
       "   Annual Income (k$)  Spending Score (1-100)\n",
       "0                  15                      39\n",
       "1                  15                      81\n",
       "2                  16                       6\n",
       "3                  16                      77\n",
       "4                  17                      40"
      ]
     },
     "execution_count": 4,
     "metadata": {},
     "output_type": "execute_result"
    }
   ],
   "source": [
    "data1.head()"
   ]
  },
  {
   "cell_type": "code",
   "execution_count": 5,
   "metadata": {},
   "outputs": [
    {
     "data": {
      "text/plain": [
       "Index(['Annual Income (k$)', 'Spending Score (1-100)'], dtype='object')"
      ]
     },
     "execution_count": 5,
     "metadata": {},
     "output_type": "execute_result"
    }
   ],
   "source": [
    "data1.columns"
   ]
  },
  {
   "cell_type": "code",
   "execution_count": 6,
   "metadata": {},
   "outputs": [],
   "source": [
    "x=data1['Annual Income (k$)']\n",
    "y=data1['Spending Score (1-100)']"
   ]
  },
  {
   "cell_type": "code",
   "execution_count": 7,
   "metadata": {},
   "outputs": [
    {
     "data": {
      "image/png": "[encoded data removed]",
      "text/plain": [
       "<Figure size 432x288 with 1 Axes>"
      ]
     },
     "metadata": {
      "needs_background": "light"
     },
     "output_type": "display_data"
    }
   ],
   "source": [
    "plt.scatter(x,y,c='red')\n",
    "plt.xlabel('Annual Income (k$)')\n",
    "plt.ylabel('Spending Score (1-100)')\n",
    "plt.title('Annual Income (k$) vs Spending Score (1-100)')\n",
    "plt.show()"
   ]
  },
  {
   "cell_type": "code",
   "execution_count": 8,
   "metadata": {},
   "outputs": [],
   "source": [
    "### Creating dataframe\n",
    "d={'x':[-10,-9,-8,-7,-6,-5,-4,-3,-2,-1,0,1,2,3,4,5,6,7,8,9,10],\n",
    "    'y':[100,81,64,49,36,25,16,9,4,1,0,1,4,9,16,25,36,49,64,81,100]}"
   ]
  },
  {
   "cell_type": "code",
   "execution_count": 9,
   "metadata": {},
   "outputs": [],
   "source": [
    "parabola=pd.DataFrame(d)"
   ]
  },
  {
   "cell_type": "code",
   "execution_count": 10,
   "metadata": {},
   "outputs": [
    {
     "data": {
      "text/html": [
       "<div>\n",
       "<style scoped>\n",
       "    .dataframe tbody tr th:only-of-type {\n",
       "        vertical-align: middle;\n",
       "    }\n",
       "\n",
       "    .dataframe tbody tr th {\n",
       "        vertical-align: top;\n",
       "    }\n",
       "\n",
       "    .dataframe thead th {\n",
       "        text-align: right;\n",
       "    }\n",
       "</style>\n",
       "<table border=\"1\" class=\"dataframe\">\n",
       "  <thead>\n",
       "    <tr style=\"text-align: right;\">\n",
       "      <th></th>\n",
       "      <th>x</th>\n",
       "      <th>y</th>\n",
       "    </tr>\n",
       "  </thead>\n",
       "  <tbody>\n",
       "    <tr>\n",
       "      <th>0</th>\n",
       "      <td>-10</td>\n",
       "      <td>100</td>\n",
       "    </tr>\n",
       "    <tr>\n",
       "      <th>1</th>\n",
       "      <td>-9</td>\n",
       "      <td>81</td>\n",
       "    </tr>\n",
       "    <tr>\n",
       "      <th>2</th>\n",
       "      <td>-8</td>\n",
       "      <td>64</td>\n",
       "    </tr>\n",
       "    <tr>\n",
       "      <th>3</th>\n",
       "      <td>-7</td>\n",
       "      <td>49</td>\n",
       "    </tr>\n",
       "    <tr>\n",
       "      <th>4</th>\n",
       "      <td>-6</td>\n",
       "      <td>36</td>\n",
       "    </tr>\n",
       "    <tr>\n",
       "      <th>5</th>\n",
       "      <td>-5</td>\n",
       "      <td>25</td>\n",
       "    </tr>\n",
       "    <tr>\n",
       "      <th>6</th>\n",
       "      <td>-4</td>\n",
       "      <td>16</td>\n",
       "    </tr>\n",
       "    <tr>\n",
       "      <th>7</th>\n",
       "      <td>-3</td>\n",
       "      <td>9</td>\n",
       "    </tr>\n",
       "    <tr>\n",
       "      <th>8</th>\n",
       "      <td>-2</td>\n",
       "      <td>4</td>\n",
       "    </tr>\n",
       "    <tr>\n",
       "      <th>9</th>\n",
       "      <td>-1</td>\n",
       "      <td>1</td>\n",
       "    </tr>\n",
       "    <tr>\n",
       "      <th>10</th>\n",
       "      <td>0</td>\n",
       "      <td>0</td>\n",
       "    </tr>\n",
       "    <tr>\n",
       "      <th>11</th>\n",
       "      <td>1</td>\n",
       "      <td>1</td>\n",
       "    </tr>\n",
       "    <tr>\n",
       "      <th>12</th>\n",
       "      <td>2</td>\n",
       "      <td>4</td>\n",
       "    </tr>\n",
       "    <tr>\n",
       "      <th>13</th>\n",
       "      <td>3</td>\n",
       "      <td>9</td>\n",
       "    </tr>\n",
       "    <tr>\n",
       "      <th>14</th>\n",
       "      <td>4</td>\n",
       "      <td>16</td>\n",
       "    </tr>\n",
       "    <tr>\n",
       "      <th>15</th>\n",
       "      <td>5</td>\n",
       "      <td>25</td>\n",
       "    </tr>\n",
       "    <tr>\n",
       "      <th>16</th>\n",
       "      <td>6</td>\n",
       "      <td>36</td>\n",
       "    </tr>\n",
       "    <tr>\n",
       "      <th>17</th>\n",
       "      <td>7</td>\n",
       "      <td>49</td>\n",
       "    </tr>\n",
       "    <tr>\n",
       "      <th>18</th>\n",
       "      <td>8</td>\n",
       "      <td>64</td>\n",
       "    </tr>\n",
       "    <tr>\n",
       "      <th>19</th>\n",
       "      <td>9</td>\n",
       "      <td>81</td>\n",
       "    </tr>\n",
       "    <tr>\n",
       "      <th>20</th>\n",
       "      <td>10</td>\n",
       "      <td>100</td>\n",
       "    </tr>\n",
       "  </tbody>\n",
       "</table>\n",
       "</div>"
      ],
      "text/plain": [
       "     x    y\n",
       "0  -10  100\n",
       "1   -9   81\n",
       "2   -8   64\n",
       "3   -7   49\n",
       "4   -6   36\n",
       "5   -5   25\n",
       "6   -4   16\n",
       "7   -3    9\n",
       "8   -2    4\n",
       "9   -1    1\n",
       "10   0    0\n",
       "11   1    1\n",
       "12   2    4\n",
       "13   3    9\n",
       "14   4   16\n",
       "15   5   25\n",
       "16   6   36\n",
       "17   7   49\n",
       "18   8   64\n",
       "19   9   81\n",
       "20  10  100"
      ]
     },
     "execution_count": 10,
     "metadata": {},
     "output_type": "execute_result"
    }
   ],
   "source": [
    "parabola"
   ]
  },
  {
   "cell_type": "code",
   "execution_count": 11,
   "metadata": {},
   "outputs": [
    {
     "data": {
      "text/plain": [
       "<matplotlib.collections.PathCollection at 0x2daa1068700>"
      ]
     },
     "execution_count": 11,
     "metadata": {},
     "output_type": "execute_result"
    },
    {
     "data": {
      "image/png": "[encoded data removed]",
      "text/plain": [
       "<Figure size 432x288 with 1 Axes>"
      ]
     },
     "metadata": {
      "needs_background": "light"
     },
     "output_type": "display_data"
    }
   ],
   "source": [
    "x=parabola['x']\n",
    "y=parabola['y']\n",
    "plt.scatter(x,y)"
   ]
  },
  {
   "cell_type": "markdown",
   "metadata": {},
   "source": [
    "### Applying K-means:"
   ]
  },
  {
   "cell_type": "markdown",
   "metadata": {},
   "source": [
    "### 1) How many good clusters you want devide?"
   ]
  },
  {
   "cell_type": "markdown",
   "metadata": {},
   "source": [
    "#### Inertia concept\n",
    "#### WSS= Intertia concept\n",
    "#### Elbow method"
   ]
  },
  {
   "cell_type": "markdown",
   "metadata": {},
   "source": [
    "- You have to caculate WSS score for each cluster\n",
    "\n",
    "- Randomly choose 11 clusters\n",
    "\n",
    "- get the wss value for all ll clusters\n",
    "\n",
    "- plot wss scores vs each cluster\n",
    "\n",
    "- this plot is called elbow method"
   ]
  },
  {
   "cell_type": "code",
   "execution_count": 12,
   "metadata": {},
   "outputs": [],
   "source": [
    "from sklearn.cluster import KMeans"
   ]
  },
  {
   "cell_type": "code",
   "execution_count": 13,
   "metadata": {},
   "outputs": [],
   "source": [
    "kmeans=KMeans(n_clusters=1,init='k-means++',n_init=10,max_iter=300,random_state=0)"
   ]
  },
  {
   "cell_type": "code",
   "execution_count": 14,
   "metadata": {},
   "outputs": [],
   "source": [
    "X=data1.values   # Conver data frame into values"
   ]
  },
  {
   "cell_type": "code",
   "execution_count": 15,
   "metadata": {},
   "outputs": [
    {
     "data": {
      "text/plain": [
       "KMeans(n_clusters=1, random_state=0)"
      ]
     },
     "execution_count": 15,
     "metadata": {},
     "output_type": "execute_result"
    }
   ],
   "source": [
    "kmeans.fit(X)"
   ]
  },
  {
   "cell_type": "code",
   "execution_count": 16,
   "metadata": {},
   "outputs": [
    {
     "data": {
      "text/plain": [
       "269981.28000000014"
      ]
     },
     "execution_count": 16,
     "metadata": {},
     "output_type": "execute_result"
    }
   ],
   "source": [
    "kmeans.inertia_  #wss"
   ]
  },
  {
   "cell_type": "code",
   "execution_count": 17,
   "metadata": {},
   "outputs": [
    {
     "name": "stdout",
     "output_type": "stream",
     "text": [
      "For the cluster 1 the wss value is: 269981.28000000014\n"
     ]
    }
   ],
   "source": [
    "print('For the cluster 1 the wss value is:',kmeans.inertia_)"
   ]
  },
  {
   "cell_type": "code",
   "execution_count": 18,
   "metadata": {},
   "outputs": [],
   "source": [
    "wss=[]\n",
    "for i in range(1,11):\n",
    "    kmeans=KMeans(n_clusters=i,init='k-means++',n_init=10,max_iter=300,random_state=0)\n",
    "    kmeans.fit(X)\n",
    "    wss.append(round(kmeans.inertia_,2)) # syntax"
   ]
  },
  {
   "cell_type": "code",
   "execution_count": 19,
   "metadata": {},
   "outputs": [
    {
     "data": {
      "text/plain": [
       "[269981.28,\n",
       " 181363.6,\n",
       " 106348.37,\n",
       " 73679.79,\n",
       " 44448.46,\n",
       " 37239.84,\n",
       " 30273.39,\n",
       " 25018.58,\n",
       " 21850.17,\n",
       " 19664.69]"
      ]
     },
     "execution_count": 19,
     "metadata": {},
     "output_type": "execute_result"
    }
   ],
   "source": [
    "wss"
   ]
  },
  {
   "cell_type": "markdown",
   "metadata": {},
   "source": [
    "### Elbow plot:"
   ]
  },
  {
   "cell_type": "code",
   "execution_count": 20,
   "metadata": {},
   "outputs": [
    {
     "data": {
      "image/png": "[encoded data removed]",
      "text/plain": [
       "<Figure size 432x288 with 1 Axes>"
      ]
     },
     "metadata": {
      "needs_background": "light"
     },
     "output_type": "display_data"
    }
   ],
   "source": [
    "## Wss vs Cluster\n",
    "plt.plot(range(1,11),wss)\n",
    "plt.xlabel('Cluster')\n",
    "plt.ylabel('WSS')\n",
    "plt.title('Elbow method')\n",
    "plt.show()"
   ]
  },
  {
   "cell_type": "code",
   "execution_count": 21,
   "metadata": {},
   "outputs": [],
   "source": [
    "# if you have good clusters the WSS will not chnage drastically\n",
    "\n",
    "# from which cluter to which cluster change more------------- > 1 to 5\n",
    "# 5 to 10\n",
    "\n",
    "# Number of good clusters are 5"
   ]
  },
  {
   "cell_type": "markdown",
   "metadata": {},
   "source": [
    "# Call the package\n",
    "\n",
    "# save the package\n",
    "\n",
    "# fit values\n",
    "\n",
    "# predict which point belongs to which cluster"
   ]
  },
  {
   "cell_type": "code",
   "execution_count": 22,
   "metadata": {},
   "outputs": [],
   "source": [
    "kmeans=KMeans(n_clusters=5,init='k-means++',n_init=10,max_iter=300,random_state=0) # no of good cluster=5\n",
    "y_kmeans=kmeans.fit_predict(X)"
   ]
  },
  {
   "cell_type": "code",
   "execution_count": 23,
   "metadata": {},
   "outputs": [
    {
     "data": {
      "text/plain": [
       "array([3, 1, 3, 1, 3, 1, 3, 1, 3, 1, 3, 1, 3, 1, 3, 1, 3, 1, 3, 1, 3, 1,\n",
       "       3, 1, 3, 1, 3, 1, 3, 1, 3, 1, 3, 1, 3, 1, 3, 1, 3, 1, 3, 1, 3, 0,\n",
       "       3, 1, 0, 0, 0, 0, 0, 0, 0, 0, 0, 0, 0, 0, 0, 0, 0, 0, 0, 0, 0, 0,\n",
       "       0, 0, 0, 0, 0, 0, 0, 0, 0, 0, 0, 0, 0, 0, 0, 0, 0, 0, 0, 0, 0, 0,\n",
       "       0, 0, 0, 0, 0, 0, 0, 0, 0, 0, 0, 0, 0, 0, 0, 0, 0, 0, 0, 0, 0, 0,\n",
       "       0, 0, 0, 0, 0, 0, 0, 0, 0, 0, 0, 0, 0, 2, 4, 2, 0, 2, 4, 2, 4, 2,\n",
       "       0, 2, 4, 2, 4, 2, 4, 2, 4, 2, 0, 2, 4, 2, 4, 2, 4, 2, 4, 2, 4, 2,\n",
       "       4, 2, 4, 2, 4, 2, 4, 2, 4, 2, 4, 2, 4, 2, 4, 2, 4, 2, 4, 2, 4, 2,\n",
       "       4, 2, 4, 2, 4, 2, 4, 2, 4, 2, 4, 2, 4, 2, 4, 2, 4, 2, 4, 2, 4, 2,\n",
       "       4, 2])"
      ]
     },
     "execution_count": 23,
     "metadata": {},
     "output_type": "execute_result"
    }
   ],
   "source": [
    "y_kmeans"
   ]
  },
  {
   "cell_type": "code",
   "execution_count": 24,
   "metadata": {},
   "outputs": [
    {
     "data": {
      "text/plain": [
       "array([[ 15,  39],\n",
       "       [ 15,  81],\n",
       "       [ 16,   6],\n",
       "       [ 16,  77],\n",
       "       [ 17,  40],\n",
       "       [ 17,  76],\n",
       "       [ 18,   6],\n",
       "       [ 18,  94],\n",
       "       [ 19,   3],\n",
       "       [ 19,  72],\n",
       "       [ 19,  14],\n",
       "       [ 19,  99],\n",
       "       [ 20,  15],\n",
       "       [ 20,  77],\n",
       "       [ 20,  13],\n",
       "       [ 20,  79],\n",
       "       [ 21,  35],\n",
       "       [ 21,  66],\n",
       "       [ 23,  29],\n",
       "       [ 23,  98],\n",
       "       [ 24,  35],\n",
       "       [ 24,  73],\n",
       "       [ 25,   5],\n",
       "       [ 25,  73],\n",
       "       [ 28,  14],\n",
       "       [ 28,  82],\n",
       "       [ 28,  32],\n",
       "       [ 28,  61],\n",
       "       [ 29,  31],\n",
       "       [ 29,  87],\n",
       "       [ 30,   4],\n",
       "       [ 30,  73],\n",
       "       [ 33,   4],\n",
       "       [ 33,  92],\n",
       "       [ 33,  14],\n",
       "       [ 33,  81],\n",
       "       [ 34,  17],\n",
       "       [ 34,  73],\n",
       "       [ 37,  26],\n",
       "       [ 37,  75],\n",
       "       [ 38,  35],\n",
       "       [ 38,  92],\n",
       "       [ 39,  36],\n",
       "       [ 39,  61],\n",
       "       [ 39,  28],\n",
       "       [ 39,  65],\n",
       "       [ 40,  55],\n",
       "       [ 40,  47],\n",
       "       [ 40,  42],\n",
       "       [ 40,  42],\n",
       "       [ 42,  52],\n",
       "       [ 42,  60],\n",
       "       [ 43,  54],\n",
       "       [ 43,  60],\n",
       "       [ 43,  45],\n",
       "       [ 43,  41],\n",
       "       [ 44,  50],\n",
       "       [ 44,  46],\n",
       "       [ 46,  51],\n",
       "       [ 46,  46],\n",
       "       [ 46,  56],\n",
       "       [ 46,  55],\n",
       "       [ 47,  52],\n",
       "       [ 47,  59],\n",
       "       [ 48,  51],\n",
       "       [ 48,  59],\n",
       "       [ 48,  50],\n",
       "       [ 48,  48],\n",
       "       [ 48,  59],\n",
       "       [ 48,  47],\n",
       "       [ 49,  55],\n",
       "       [ 49,  42],\n",
       "       [ 50,  49],\n",
       "       [ 50,  56],\n",
       "       [ 54,  47],\n",
       "       [ 54,  54],\n",
       "       [ 54,  53],\n",
       "       [ 54,  48],\n",
       "       [ 54,  52],\n",
       "       [ 54,  42],\n",
       "       [ 54,  51],\n",
       "       [ 54,  55],\n",
       "       [ 54,  41],\n",
       "       [ 54,  44],\n",
       "       [ 54,  57],\n",
       "       [ 54,  46],\n",
       "       [ 57,  58],\n",
       "       [ 57,  55],\n",
       "       [ 58,  60],\n",
       "       [ 58,  46],\n",
       "       [ 59,  55],\n",
       "       [ 59,  41],\n",
       "       [ 60,  49],\n",
       "       [ 60,  40],\n",
       "       [ 60,  42],\n",
       "       [ 60,  52],\n",
       "       [ 60,  47],\n",
       "       [ 60,  50],\n",
       "       [ 61,  42],\n",
       "       [ 61,  49],\n",
       "       [ 62,  41],\n",
       "       [ 62,  48],\n",
       "       [ 62,  59],\n",
       "       [ 62,  55],\n",
       "       [ 62,  56],\n",
       "       [ 62,  42],\n",
       "       [ 63,  50],\n",
       "       [ 63,  46],\n",
       "       [ 63,  43],\n",
       "       [ 63,  48],\n",
       "       [ 63,  52],\n",
       "       [ 63,  54],\n",
       "       [ 64,  42],\n",
       "       [ 64,  46],\n",
       "       [ 65,  48],\n",
       "       [ 65,  50],\n",
       "       [ 65,  43],\n",
       "       [ 65,  59],\n",
       "       [ 67,  43],\n",
       "       [ 67,  57],\n",
       "       [ 67,  56],\n",
       "       [ 67,  40],\n",
       "       [ 69,  58],\n",
       "       [ 69,  91],\n",
       "       [ 70,  29],\n",
       "       [ 70,  77],\n",
       "       [ 71,  35],\n",
       "       [ 71,  95],\n",
       "       [ 71,  11],\n",
       "       [ 71,  75],\n",
       "       [ 71,   9],\n",
       "       [ 71,  75],\n",
       "       [ 72,  34],\n",
       "       [ 72,  71],\n",
       "       [ 73,   5],\n",
       "       [ 73,  88],\n",
       "       [ 73,   7],\n",
       "       [ 73,  73],\n",
       "       [ 74,  10],\n",
       "       [ 74,  72],\n",
       "       [ 75,   5],\n",
       "       [ 75,  93],\n",
       "       [ 76,  40],\n",
       "       [ 76,  87],\n",
       "       [ 77,  12],\n",
       "       [ 77,  97],\n",
       "       [ 77,  36],\n",
       "       [ 77,  74],\n",
       "       [ 78,  22],\n",
       "       [ 78,  90],\n",
       "       [ 78,  17],\n",
       "       [ 78,  88],\n",
       "       [ 78,  20],\n",
       "       [ 78,  76],\n",
       "       [ 78,  16],\n",
       "       [ 78,  89],\n",
       "       [ 78,   1],\n",
       "       [ 78,  78],\n",
       "       [ 78,   1],\n",
       "       [ 78,  73],\n",
       "       [ 79,  35],\n",
       "       [ 79,  83],\n",
       "       [ 81,   5],\n",
       "       [ 81,  93],\n",
       "       [ 85,  26],\n",
       "       [ 85,  75],\n",
       "       [ 86,  20],\n",
       "       [ 86,  95],\n",
       "       [ 87,  27],\n",
       "       [ 87,  63],\n",
       "       [ 87,  13],\n",
       "       [ 87,  75],\n",
       "       [ 87,  10],\n",
       "       [ 87,  92],\n",
       "       [ 88,  13],\n",
       "       [ 88,  86],\n",
       "       [ 88,  15],\n",
       "       [ 88,  69],\n",
       "       [ 93,  14],\n",
       "       [ 93,  90],\n",
       "       [ 97,  32],\n",
       "       [ 97,  86],\n",
       "       [ 98,  15],\n",
       "       [ 98,  88],\n",
       "       [ 99,  39],\n",
       "       [ 99,  97],\n",
       "       [101,  24],\n",
       "       [101,  68],\n",
       "       [103,  17],\n",
       "       [103,  85],\n",
       "       [103,  23],\n",
       "       [103,  69],\n",
       "       [113,   8],\n",
       "       [113,  91],\n",
       "       [120,  16],\n",
       "       [120,  79],\n",
       "       [126,  28],\n",
       "       [126,  74],\n",
       "       [137,  18],\n",
       "       [137,  83]], dtype=int64)"
      ]
     },
     "execution_count": 24,
     "metadata": {},
     "output_type": "execute_result"
    }
   ],
   "source": [
    "X"
   ]
  },
  {
   "cell_type": "code",
   "execution_count": 25,
   "metadata": {},
   "outputs": [],
   "source": [
    "data1['Cluster']=y_kmeans"
   ]
  },
  {
   "cell_type": "code",
   "execution_count": 26,
   "metadata": {},
   "outputs": [
    {
     "data": {
      "text/html": [
       "<div>\n",
       "<style scoped>\n",
       "    .dataframe tbody tr th:only-of-type {\n",
       "        vertical-align: middle;\n",
       "    }\n",
       "\n",
       "    .dataframe tbody tr th {\n",
       "        vertical-align: top;\n",
       "    }\n",
       "\n",
       "    .dataframe thead th {\n",
       "        text-align: right;\n",
       "    }\n",
       "</style>\n",
       "<table border=\"1\" class=\"dataframe\">\n",
       "  <thead>\n",
       "    <tr style=\"text-align: right;\">\n",
       "      <th></th>\n",
       "      <th>Annual Income (k$)</th>\n",
       "      <th>Spending Score (1-100)</th>\n",
       "      <th>Cluster</th>\n",
       "    </tr>\n",
       "  </thead>\n",
       "  <tbody>\n",
       "    <tr>\n",
       "      <th>0</th>\n",
       "      <td>15</td>\n",
       "      <td>39</td>\n",
       "      <td>3</td>\n",
       "    </tr>\n",
       "    <tr>\n",
       "      <th>1</th>\n",
       "      <td>15</td>\n",
       "      <td>81</td>\n",
       "      <td>1</td>\n",
       "    </tr>\n",
       "    <tr>\n",
       "      <th>2</th>\n",
       "      <td>16</td>\n",
       "      <td>6</td>\n",
       "      <td>3</td>\n",
       "    </tr>\n",
       "    <tr>\n",
       "      <th>3</th>\n",
       "      <td>16</td>\n",
       "      <td>77</td>\n",
       "      <td>1</td>\n",
       "    </tr>\n",
       "    <tr>\n",
       "      <th>4</th>\n",
       "      <td>17</td>\n",
       "      <td>40</td>\n",
       "      <td>3</td>\n",
       "    </tr>\n",
       "  </tbody>\n",
       "</table>\n",
       "</div>"
      ],
      "text/plain": [
       "   Annual Income (k$)  Spending Score (1-100)  Cluster\n",
       "0                  15                      39        3\n",
       "1                  15                      81        1\n",
       "2                  16                       6        3\n",
       "3                  16                      77        1\n",
       "4                  17                      40        3"
      ]
     },
     "execution_count": 26,
     "metadata": {},
     "output_type": "execute_result"
    }
   ],
   "source": [
    "data1.head() # dataframe values  with cluster"
   ]
  },
  {
   "cell_type": "code",
   "execution_count": 27,
   "metadata": {},
   "outputs": [
    {
     "data": {
      "text/html": [
       "<div>\n",
       "<style scoped>\n",
       "    .dataframe tbody tr th:only-of-type {\n",
       "        vertical-align: middle;\n",
       "    }\n",
       "\n",
       "    .dataframe tbody tr th {\n",
       "        vertical-align: top;\n",
       "    }\n",
       "\n",
       "    .dataframe thead th {\n",
       "        text-align: right;\n",
       "    }\n",
       "</style>\n",
       "<table border=\"1\" class=\"dataframe\">\n",
       "  <thead>\n",
       "    <tr style=\"text-align: right;\">\n",
       "      <th></th>\n",
       "      <th>Annual Income (k$)</th>\n",
       "      <th>Spending Score (1-100)</th>\n",
       "      <th>Cluster</th>\n",
       "    </tr>\n",
       "  </thead>\n",
       "  <tbody>\n",
       "    <tr>\n",
       "      <th>43</th>\n",
       "      <td>39</td>\n",
       "      <td>61</td>\n",
       "      <td>0</td>\n",
       "    </tr>\n",
       "    <tr>\n",
       "      <th>46</th>\n",
       "      <td>40</td>\n",
       "      <td>55</td>\n",
       "      <td>0</td>\n",
       "    </tr>\n",
       "    <tr>\n",
       "      <th>47</th>\n",
       "      <td>40</td>\n",
       "      <td>47</td>\n",
       "      <td>0</td>\n",
       "    </tr>\n",
       "    <tr>\n",
       "      <th>48</th>\n",
       "      <td>40</td>\n",
       "      <td>42</td>\n",
       "      <td>0</td>\n",
       "    </tr>\n",
       "    <tr>\n",
       "      <th>49</th>\n",
       "      <td>40</td>\n",
       "      <td>42</td>\n",
       "      <td>0</td>\n",
       "    </tr>\n",
       "  </tbody>\n",
       "</table>\n",
       "</div>"
      ],
      "text/plain": [
       "    Annual Income (k$)  Spending Score (1-100)  Cluster\n",
       "43                  39                      61        0\n",
       "46                  40                      55        0\n",
       "47                  40                      47        0\n",
       "48                  40                      42        0\n",
       "49                  40                      42        0"
      ]
     },
     "execution_count": 27,
     "metadata": {},
     "output_type": "execute_result"
    }
   ],
   "source": [
    "data1[data1['Cluster']==0].head()  # cluster1\n",
    "\n",
    "# you have to create data frame if you want to use above"
   ]
  },
  {
   "cell_type": "code",
   "execution_count": 31,
   "metadata": {},
   "outputs": [
    {
     "data": {
      "text/plain": [
       "array([[15, 39],\n",
       "       [16,  6],\n",
       "       [17, 40],\n",
       "       [18,  6],\n",
       "       [19,  3],\n",
       "       [19, 14],\n",
       "       [20, 15],\n",
       "       [20, 13],\n",
       "       [21, 35],\n",
       "       [23, 29],\n",
       "       [24, 35],\n",
       "       [25,  5],\n",
       "       [28, 14],\n",
       "       [28, 32],\n",
       "       [29, 31],\n",
       "       [30,  4],\n",
       "       [33,  4],\n",
       "       [33, 14],\n",
       "       [34, 17],\n",
       "       [37, 26],\n",
       "       [38, 35],\n",
       "       [39, 36],\n",
       "       [39, 28]], dtype=int64)"
      ]
     },
     "execution_count": 31,
     "metadata": {},
     "output_type": "execute_result"
    }
   ],
   "source": [
    "# I want to know cluster-1  people\n",
    "X[y_kmeans==3]   # values synatx\n",
    "\n",
    "# X =input\n",
    "# Y_kmeans= output"
   ]
  },
  {
   "cell_type": "code",
   "execution_count": 73,
   "metadata": {},
   "outputs": [
    {
     "data": {
      "text/plain": [
       "(88.2, 17.114285714285714)"
      ]
     },
     "execution_count": 73,
     "metadata": {},
     "output_type": "execute_result"
    }
   ],
   "source": [
    "np.mean(X[y_kmeans==0,0]),np.mean(X[y_kmeans==0,1])"
   ]
  },
  {
   "cell_type": "code",
   "execution_count": 60,
   "metadata": {},
   "outputs": [
    {
     "data": {
      "text/plain": [
       "array([ 70,  71,  71,  73,  73,  74,  75,  77,  77,  78,  78,  78,  78,\n",
       "        78,  78,  79,  81,  85,  86,  87,  87,  87,  88,  88,  93,  97,\n",
       "        98,  99, 101, 103, 103, 113, 120, 126, 137], dtype=int64)"
      ]
     },
     "execution_count": 60,
     "metadata": {},
     "output_type": "execute_result"
    }
   ],
   "source": [
    "X[y_kmeans==0,0]   # x-axis values"
   ]
  },
  {
   "cell_type": "code",
   "execution_count": 61,
   "metadata": {},
   "outputs": [
    {
     "data": {
      "text/plain": [
       "array([29, 11,  9,  5,  7, 10,  5, 12, 36, 22, 17, 20, 16,  1,  1, 35,  5,\n",
       "       26, 20, 27, 13, 10, 13, 15, 14, 32, 15, 39, 24, 17, 23,  8, 16, 28,\n",
       "       18], dtype=int64)"
      ]
     },
     "execution_count": 61,
     "metadata": {},
     "output_type": "execute_result"
    }
   ],
   "source": [
    "X[y_kmeans==0,1]   # y-axis values will come\n"
   ]
  },
  {
   "cell_type": "code",
   "execution_count": null,
   "metadata": {},
   "outputs": [],
   "source": [
    "# For cluster 1-------- > X[y_kmeans==0]---------->data1[data1['Cluster']==0]\n",
    "# For gettin x-axis ------> X[y_kmeans==0,0]------> y-axis-------->X[y_kmeans==0,1] \n",
    "\n",
    "# For cluster 2-------- > X[y_kmeans==1]---------->data1[data1['Cluster']==1]\n",
    "# For gettin x-axis ------> X[y_kmeans==1,0]------> y-axis-------->X[y_kmeans==1,1]\n",
    "\n",
    "\n",
    "# For cluster 3-------- > X[y_kmeans==2]---------->data1[data1['Cluster']==2]\n",
    "# For gettin x-axis ------> X[y_kmeans==2,0]------> y-axis-------->X[y_kmeans==2,1]\n",
    "\n",
    "# For cluster 4-------- > X[y_kmeans==3]---------->data1[data1['Cluster']==3]\n",
    "# For gettin x-axis ------> X[y_kmeans==3,0]------> y-axis-------->X[y_kmeans==3,1]\n",
    "\n",
    "# For cluster 5-------- > X[y_kmeans==4]---------->data1[data1['Cluster']==4]\n",
    "# For gettin x-axis ------> X[y_kmeans==4,0]------> y-axis-------->X[y_kmeans==4,1]"
   ]
  },
  {
   "cell_type": "code",
   "execution_count": 80,
   "metadata": {},
   "outputs": [
    {
     "data": {
      "image/png": "[encoded data removed]",
      "text/plain": [
       "<Figure size 432x288 with 1 Axes>"
      ]
     },
     "metadata": {
      "needs_background": "light"
     },
     "output_type": "display_data"
    }
   ],
   "source": [
    "plt.scatter(X[y_kmeans==0,0],X[y_kmeans==0,1],s=100,c='red',label='Cluster1')\n",
    "plt.scatter(X[y_kmeans==1,0],X[y_kmeans==1,1],s=100,c='blue',label='Cluster2')\n",
    "plt.scatter(X[y_kmeans==2,0],X[y_kmeans==2,1],s=100,c='green',label='Cluster3')\n",
    "plt.scatter(X[y_kmeans==3,0],X[y_kmeans==3,1],s=100,c='cyan',label='Cluster4')\n",
    "plt.scatter(X[y_kmeans==4,0],X[y_kmeans==4,1],s=100,c='m',label='Cluster5')\n",
    "plt.scatter(kmeans.cluster_centers_[:,0],kmeans.cluster_centers_[:,1],s=300,c='yellow')\n",
    "plt.title('K-means Cluster')\n",
    "plt.xlabel('Annula Income')\n",
    "plt.ylabel('spending score')\n",
    "plt.legend()\n",
    "plt.show()"
   ]
  },
  {
   "cell_type": "code",
   "execution_count": 68,
   "metadata": {},
   "outputs": [
    {
     "data": {
      "text/plain": [
       "array([88.2       , 55.2962963 , 86.53846154, 25.72727273, 26.30434783])"
      ]
     },
     "execution_count": 68,
     "metadata": {},
     "output_type": "execute_result"
    }
   ],
   "source": [
    "kmeans.cluster_centers_[:,0]"
   ]
  },
  {
   "cell_type": "code",
   "execution_count": 71,
   "metadata": {},
   "outputs": [
    {
     "data": {
      "text/plain": [
       "array([17.11428571, 49.51851852, 82.12820513, 79.36363636, 20.91304348])"
      ]
     },
     "execution_count": 71,
     "metadata": {},
     "output_type": "execute_result"
    }
   ],
   "source": [
    "kmeans.cluster_centers_[:,1]"
   ]
  },
  {
   "cell_type": "code",
   "execution_count": 69,
   "metadata": {},
   "outputs": [
    {
     "data": {
      "text/plain": [
       "array([ 70,  71,  71,  73,  73,  74,  75,  77,  77,  78,  78,  78,  78,\n",
       "        78,  78,  79,  81,  85,  86,  87,  87,  87,  88,  88,  93,  97,\n",
       "        98,  99, 101, 103, 103, 113, 120, 126, 137], dtype=int64)"
      ]
     },
     "execution_count": 69,
     "metadata": {},
     "output_type": "execute_result"
    }
   ],
   "source": [
    "X[y_kmeans==0,0] # mean of these values= 88.2"
   ]
  },
  {
   "cell_type": "code",
   "execution_count": 70,
   "metadata": {},
   "outputs": [
    {
     "data": {
      "text/plain": [
       "array([39, 40, 40, 40, 40, 42, 42, 43, 43, 43, 43, 44, 44, 46, 46, 46, 46,\n",
       "       47, 47, 48, 48, 48, 48, 48, 48, 49, 49, 50, 50, 54, 54, 54, 54, 54,\n",
       "       54, 54, 54, 54, 54, 54, 54, 57, 57, 58, 58, 59, 59, 60, 60, 60, 60,\n",
       "       60, 60, 61, 61, 62, 62, 62, 62, 62, 62, 63, 63, 63, 63, 63, 63, 64,\n",
       "       64, 65, 65, 65, 65, 67, 67, 67, 67, 69, 71, 72, 76], dtype=int64)"
      ]
     },
     "execution_count": 70,
     "metadata": {},
     "output_type": "execute_result"
    }
   ],
   "source": [
    "X[y_kmeans==1,0]"
   ]
  },
  {
   "cell_type": "markdown",
   "metadata": {},
   "source": [
    "# Hirarchical:"
   ]
  },
  {
   "cell_type": "code",
   "execution_count": null,
   "metadata": {},
   "outputs": [],
   "source": [
    "# Distance/similarity matrix\n",
    "# linkage function\n",
    "# dendrogram\n",
    "# we know how many clusters we want"
   ]
  },
  {
   "cell_type": "code",
   "execution_count": 1,
   "metadata": {},
   "outputs": [],
   "source": [
    "import numpy as np\n",
    "import pandas as pd\n",
    "import matplotlib.pyplot as plt\n",
    "import seaborn as sns"
   ]
  },
  {
   "cell_type": "code",
   "execution_count": 2,
   "metadata": {},
   "outputs": [],
   "source": [
    "data=np.array([[1,2],[3,4],[5,6],[7,8]])"
   ]
  },
  {
   "cell_type": "code",
   "execution_count": 12,
   "metadata": {},
   "outputs": [
    {
     "data": {
      "text/plain": [
       "array([[1, 2],\n",
       "       [3, 4],\n",
       "       [5, 6],\n",
       "       [7, 8]])"
      ]
     },
     "execution_count": 12,
     "metadata": {},
     "output_type": "execute_result"
    }
   ],
   "source": [
    "data"
   ]
  },
  {
   "cell_type": "code",
   "execution_count": 10,
   "metadata": {},
   "outputs": [
    {
     "data": {
      "text/plain": [
       "array([[1],\n",
       "       [3],\n",
       "       [5],\n",
       "       [7]])"
      ]
     },
     "execution_count": 10,
     "metadata": {},
     "output_type": "execute_result"
    }
   ],
   "source": [
    "data[:,:1]"
   ]
  },
  {
   "cell_type": "code",
   "execution_count": 11,
   "metadata": {},
   "outputs": [
    {
     "data": {
      "text/plain": [
       "array([[2],\n",
       "       [4],\n",
       "       [6],\n",
       "       [8]])"
      ]
     },
     "execution_count": 11,
     "metadata": {},
     "output_type": "execute_result"
    }
   ],
   "source": [
    "data[:,1:2]"
   ]
  },
  {
   "cell_type": "code",
   "execution_count": 8,
   "metadata": {},
   "outputs": [
    {
     "data": {
      "text/plain": [
       "array([1, 2])"
      ]
     },
     "execution_count": 8,
     "metadata": {},
     "output_type": "execute_result"
    }
   ],
   "source": [
    "data[]"
   ]
  },
  {
   "cell_type": "code",
   "execution_count": null,
   "metadata": {},
   "outputs": [],
   "source": [
    "d={'x':[-10,-9,-8,-7,-6,-5,-4,-3,-2,-1,0,1,2,3,4,5,6,7,8,9,10],\n",
    "    'y':[100,81,64,49,36,25,16,9,4,1,0,1,4,9,16,25,36,49,64,81,100]}"
   ]
  },
  {
   "cell_type": "code",
   "execution_count": 6,
   "metadata": {},
   "outputs": [],
   "source": [
    "d1=np.array([[-10,-9,-8,-7,-6,-5,-4,-3,-2,-1,0,1,2,3,4,5,6,7,8,9,10],[100,81,64,49,36,25,16,9,4,1,0,1,4,9,16,25,36,49,64,81,100]])"
   ]
  },
  {
   "cell_type": "code",
   "execution_count": 7,
   "metadata": {},
   "outputs": [
    {
     "data": {
      "text/plain": [
       "array([[-10,  -9,  -8,  -7,  -6,  -5,  -4,  -3,  -2,  -1,   0,   1,   2,\n",
       "          3,   4,   5,   6,   7,   8,   9,  10],\n",
       "       [100,  81,  64,  49,  36,  25,  16,   9,   4,   1,   0,   1,   4,\n",
       "          9,  16,  25,  36,  49,  64,  81, 100]])"
      ]
     },
     "execution_count": 7,
     "metadata": {},
     "output_type": "execute_result"
    }
   ],
   "source": [
    "d1"
   ]
  },
  {
   "cell_type": "code",
   "execution_count": 13,
   "metadata": {},
   "outputs": [
    {
     "data": {
      "text/plain": [
       "array([[1, 2],\n",
       "       [3, 4],\n",
       "       [5, 6],\n",
       "       [7, 8]])"
      ]
     },
     "execution_count": 13,
     "metadata": {},
     "output_type": "execute_result"
    }
   ],
   "source": [
    "data"
   ]
  },
  {
   "cell_type": "code",
   "execution_count": null,
   "metadata": {},
   "outputs": [],
   "source": [
    "## distance b/w  (1,2) to (3,4)= root((1-3)^2+(2-4)^2)=root(4+4)=root(8)=2.8\n",
    "\n",
    "##                (1,2) to (5,6)<2.8\n",
    "\n",
    "##                (1,2) to (7,8) <2.8"
   ]
  },
  {
   "cell_type": "markdown",
   "metadata": {},
   "source": []
  },
  {
   "cell_type": "code",
   "execution_count": 14,
   "metadata": {},
   "outputs": [],
   "source": [
    "from scipy.cluster.hierarchy import linkage,dendrogram,cut_tree"
   ]
  },
  {
   "cell_type": "code",
   "execution_count": null,
   "metadata": {},
   "outputs": [],
   "source": [
    "### Complete:"
   ]
  },
  {
   "cell_type": "code",
   "execution_count": 28,
   "metadata": {},
   "outputs": [],
   "source": [
    "link1=linkage(data,method='complete')"
   ]
  },
  {
   "cell_type": "code",
   "execution_count": 29,
   "metadata": {},
   "outputs": [
    {
     "data": {
      "text/plain": [
       "array([[0.        , 1.        , 2.82842712, 2.        ],\n",
       "       [2.        , 3.        , 2.82842712, 2.        ],\n",
       "       [4.        , 5.        , 8.48528137, 4.        ]])"
      ]
     },
     "execution_count": 29,
     "metadata": {},
     "output_type": "execute_result"
    }
   ],
   "source": [
    "link1"
   ]
  },
  {
   "cell_type": "code",
   "execution_count": 30,
   "metadata": {},
   "outputs": [],
   "source": [
    "# How many points:\n",
    "\n",
    "# (x,y)= 4 points\n",
    "# total 5 clusters\n",
    "\n",
    "# at starting every one is cluster\n",
    "# at top all become one cluster\n",
    "# at starting 4 clusters+ at the top so 5th cluster will come\n",
    "\n",
    "# 0=(1,2) and 1=(3,4)----------- > one form one cluster at a distance 2.8------ > 4\n",
    "\n",
    "# (5,6) and (7,8)--------------- > form a cluster at a dustnace 2.8------------ > 5\n",
    "\n",
    "# 4 and 5 will form at 8.4"
   ]
  },
  {
   "cell_type": "code",
   "execution_count": 32,
   "metadata": {},
   "outputs": [
    {
     "data": {
      "image/png": "[encoded data removed]",
      "text/plain": [
       "<Figure size 432x288 with 1 Axes>"
      ]
     },
     "metadata": {
      "needs_background": "light"
     },
     "output_type": "display_data"
    }
   ],
   "source": [
    "den1=dendrogram(link1)\n",
    "plt.show()"
   ]
  },
  {
   "cell_type": "markdown",
   "metadata": {},
   "source": [
    "- The Clades are the branch and are arranged according to how similar (or dissimilar) they are. Clades that are close to the same height are similar to each other; clades with different heights are dissimilar \n",
    " - the greater the difference in height, the more dissimilarity.\n",
    "    Each clade has one or more leaves."
   ]
  },
  {
   "cell_type": "code",
   "execution_count": null,
   "metadata": {},
   "outputs": [],
   "source": [
    "#0 ------- > (1,2)"
   ]
  },
  {
   "cell_type": "code",
   "execution_count": 34,
   "metadata": {},
   "outputs": [],
   "source": [
    "#cut_tree(den1,n_clusters=2)"
   ]
  },
  {
   "cell_type": "markdown",
   "metadata": {},
   "source": [
    "### Data set:"
   ]
  },
  {
   "cell_type": "code",
   "execution_count": 35,
   "metadata": {},
   "outputs": [],
   "source": [
    "data=pd.read_csv('C:\\\\Users\\\\nallagoni.omkar\\\\Documents\\\\Plugyaan\\\\Mall_Customers.csv')\n",
    "data1=data.iloc[:,3:5] \n",
    "X=data1.values"
   ]
  },
  {
   "cell_type": "code",
   "execution_count": 38,
   "metadata": {},
   "outputs": [
    {
     "data": {
      "text/html": [
       "<div>\n",
       "<style scoped>\n",
       "    .dataframe tbody tr th:only-of-type {\n",
       "        vertical-align: middle;\n",
       "    }\n",
       "\n",
       "    .dataframe tbody tr th {\n",
       "        vertical-align: top;\n",
       "    }\n",
       "\n",
       "    .dataframe thead th {\n",
       "        text-align: right;\n",
       "    }\n",
       "</style>\n",
       "<table border=\"1\" class=\"dataframe\">\n",
       "  <thead>\n",
       "    <tr style=\"text-align: right;\">\n",
       "      <th></th>\n",
       "      <th>CustomerID</th>\n",
       "      <th>Genre</th>\n",
       "      <th>Age</th>\n",
       "      <th>Annual Income (k$)</th>\n",
       "      <th>Spending Score (1-100)</th>\n",
       "    </tr>\n",
       "  </thead>\n",
       "  <tbody>\n",
       "    <tr>\n",
       "      <th>0</th>\n",
       "      <td>1</td>\n",
       "      <td>Male</td>\n",
       "      <td>19</td>\n",
       "      <td>15</td>\n",
       "      <td>39</td>\n",
       "    </tr>\n",
       "    <tr>\n",
       "      <th>1</th>\n",
       "      <td>2</td>\n",
       "      <td>Male</td>\n",
       "      <td>21</td>\n",
       "      <td>15</td>\n",
       "      <td>81</td>\n",
       "    </tr>\n",
       "    <tr>\n",
       "      <th>2</th>\n",
       "      <td>3</td>\n",
       "      <td>Female</td>\n",
       "      <td>20</td>\n",
       "      <td>16</td>\n",
       "      <td>6</td>\n",
       "    </tr>\n",
       "    <tr>\n",
       "      <th>3</th>\n",
       "      <td>4</td>\n",
       "      <td>Female</td>\n",
       "      <td>23</td>\n",
       "      <td>16</td>\n",
       "      <td>77</td>\n",
       "    </tr>\n",
       "    <tr>\n",
       "      <th>4</th>\n",
       "      <td>5</td>\n",
       "      <td>Female</td>\n",
       "      <td>31</td>\n",
       "      <td>17</td>\n",
       "      <td>40</td>\n",
       "    </tr>\n",
       "    <tr>\n",
       "      <th>5</th>\n",
       "      <td>6</td>\n",
       "      <td>Female</td>\n",
       "      <td>22</td>\n",
       "      <td>17</td>\n",
       "      <td>76</td>\n",
       "    </tr>\n",
       "    <tr>\n",
       "      <th>6</th>\n",
       "      <td>7</td>\n",
       "      <td>Female</td>\n",
       "      <td>35</td>\n",
       "      <td>18</td>\n",
       "      <td>6</td>\n",
       "    </tr>\n",
       "    <tr>\n",
       "      <th>7</th>\n",
       "      <td>8</td>\n",
       "      <td>Female</td>\n",
       "      <td>23</td>\n",
       "      <td>18</td>\n",
       "      <td>94</td>\n",
       "    </tr>\n",
       "    <tr>\n",
       "      <th>8</th>\n",
       "      <td>9</td>\n",
       "      <td>Male</td>\n",
       "      <td>64</td>\n",
       "      <td>19</td>\n",
       "      <td>3</td>\n",
       "    </tr>\n",
       "    <tr>\n",
       "      <th>9</th>\n",
       "      <td>10</td>\n",
       "      <td>Female</td>\n",
       "      <td>30</td>\n",
       "      <td>19</td>\n",
       "      <td>72</td>\n",
       "    </tr>\n",
       "    <tr>\n",
       "      <th>10</th>\n",
       "      <td>11</td>\n",
       "      <td>Male</td>\n",
       "      <td>67</td>\n",
       "      <td>19</td>\n",
       "      <td>14</td>\n",
       "    </tr>\n",
       "    <tr>\n",
       "      <th>11</th>\n",
       "      <td>12</td>\n",
       "      <td>Female</td>\n",
       "      <td>35</td>\n",
       "      <td>19</td>\n",
       "      <td>99</td>\n",
       "    </tr>\n",
       "    <tr>\n",
       "      <th>12</th>\n",
       "      <td>13</td>\n",
       "      <td>Female</td>\n",
       "      <td>58</td>\n",
       "      <td>20</td>\n",
       "      <td>15</td>\n",
       "    </tr>\n",
       "    <tr>\n",
       "      <th>13</th>\n",
       "      <td>14</td>\n",
       "      <td>Female</td>\n",
       "      <td>24</td>\n",
       "      <td>20</td>\n",
       "      <td>77</td>\n",
       "    </tr>\n",
       "    <tr>\n",
       "      <th>14</th>\n",
       "      <td>15</td>\n",
       "      <td>Male</td>\n",
       "      <td>37</td>\n",
       "      <td>20</td>\n",
       "      <td>13</td>\n",
       "    </tr>\n",
       "    <tr>\n",
       "      <th>15</th>\n",
       "      <td>16</td>\n",
       "      <td>Male</td>\n",
       "      <td>22</td>\n",
       "      <td>20</td>\n",
       "      <td>79</td>\n",
       "    </tr>\n",
       "    <tr>\n",
       "      <th>16</th>\n",
       "      <td>17</td>\n",
       "      <td>Female</td>\n",
       "      <td>35</td>\n",
       "      <td>21</td>\n",
       "      <td>35</td>\n",
       "    </tr>\n",
       "    <tr>\n",
       "      <th>17</th>\n",
       "      <td>18</td>\n",
       "      <td>Male</td>\n",
       "      <td>20</td>\n",
       "      <td>21</td>\n",
       "      <td>66</td>\n",
       "    </tr>\n",
       "    <tr>\n",
       "      <th>18</th>\n",
       "      <td>19</td>\n",
       "      <td>Male</td>\n",
       "      <td>52</td>\n",
       "      <td>23</td>\n",
       "      <td>29</td>\n",
       "    </tr>\n",
       "    <tr>\n",
       "      <th>19</th>\n",
       "      <td>20</td>\n",
       "      <td>Female</td>\n",
       "      <td>35</td>\n",
       "      <td>23</td>\n",
       "      <td>98</td>\n",
       "    </tr>\n",
       "    <tr>\n",
       "      <th>20</th>\n",
       "      <td>21</td>\n",
       "      <td>Male</td>\n",
       "      <td>35</td>\n",
       "      <td>24</td>\n",
       "      <td>35</td>\n",
       "    </tr>\n",
       "    <tr>\n",
       "      <th>21</th>\n",
       "      <td>22</td>\n",
       "      <td>Male</td>\n",
       "      <td>25</td>\n",
       "      <td>24</td>\n",
       "      <td>73</td>\n",
       "    </tr>\n",
       "    <tr>\n",
       "      <th>22</th>\n",
       "      <td>23</td>\n",
       "      <td>Female</td>\n",
       "      <td>46</td>\n",
       "      <td>25</td>\n",
       "      <td>5</td>\n",
       "    </tr>\n",
       "    <tr>\n",
       "      <th>23</th>\n",
       "      <td>24</td>\n",
       "      <td>Male</td>\n",
       "      <td>31</td>\n",
       "      <td>25</td>\n",
       "      <td>73</td>\n",
       "    </tr>\n",
       "    <tr>\n",
       "      <th>24</th>\n",
       "      <td>25</td>\n",
       "      <td>Female</td>\n",
       "      <td>54</td>\n",
       "      <td>28</td>\n",
       "      <td>14</td>\n",
       "    </tr>\n",
       "    <tr>\n",
       "      <th>25</th>\n",
       "      <td>26</td>\n",
       "      <td>Male</td>\n",
       "      <td>29</td>\n",
       "      <td>28</td>\n",
       "      <td>82</td>\n",
       "    </tr>\n",
       "    <tr>\n",
       "      <th>26</th>\n",
       "      <td>27</td>\n",
       "      <td>Female</td>\n",
       "      <td>45</td>\n",
       "      <td>28</td>\n",
       "      <td>32</td>\n",
       "    </tr>\n",
       "    <tr>\n",
       "      <th>27</th>\n",
       "      <td>28</td>\n",
       "      <td>Male</td>\n",
       "      <td>35</td>\n",
       "      <td>28</td>\n",
       "      <td>61</td>\n",
       "    </tr>\n",
       "    <tr>\n",
       "      <th>28</th>\n",
       "      <td>29</td>\n",
       "      <td>Female</td>\n",
       "      <td>40</td>\n",
       "      <td>29</td>\n",
       "      <td>31</td>\n",
       "    </tr>\n",
       "    <tr>\n",
       "      <th>29</th>\n",
       "      <td>30</td>\n",
       "      <td>Female</td>\n",
       "      <td>23</td>\n",
       "      <td>29</td>\n",
       "      <td>87</td>\n",
       "    </tr>\n",
       "    <tr>\n",
       "      <th>...</th>\n",
       "      <td>...</td>\n",
       "      <td>...</td>\n",
       "      <td>...</td>\n",
       "      <td>...</td>\n",
       "      <td>...</td>\n",
       "    </tr>\n",
       "    <tr>\n",
       "      <th>170</th>\n",
       "      <td>171</td>\n",
       "      <td>Male</td>\n",
       "      <td>40</td>\n",
       "      <td>87</td>\n",
       "      <td>13</td>\n",
       "    </tr>\n",
       "    <tr>\n",
       "      <th>171</th>\n",
       "      <td>172</td>\n",
       "      <td>Male</td>\n",
       "      <td>28</td>\n",
       "      <td>87</td>\n",
       "      <td>75</td>\n",
       "    </tr>\n",
       "    <tr>\n",
       "      <th>172</th>\n",
       "      <td>173</td>\n",
       "      <td>Male</td>\n",
       "      <td>36</td>\n",
       "      <td>87</td>\n",
       "      <td>10</td>\n",
       "    </tr>\n",
       "    <tr>\n",
       "      <th>173</th>\n",
       "      <td>174</td>\n",
       "      <td>Male</td>\n",
       "      <td>36</td>\n",
       "      <td>87</td>\n",
       "      <td>92</td>\n",
       "    </tr>\n",
       "    <tr>\n",
       "      <th>174</th>\n",
       "      <td>175</td>\n",
       "      <td>Female</td>\n",
       "      <td>52</td>\n",
       "      <td>88</td>\n",
       "      <td>13</td>\n",
       "    </tr>\n",
       "    <tr>\n",
       "      <th>175</th>\n",
       "      <td>176</td>\n",
       "      <td>Female</td>\n",
       "      <td>30</td>\n",
       "      <td>88</td>\n",
       "      <td>86</td>\n",
       "    </tr>\n",
       "    <tr>\n",
       "      <th>176</th>\n",
       "      <td>177</td>\n",
       "      <td>Male</td>\n",
       "      <td>58</td>\n",
       "      <td>88</td>\n",
       "      <td>15</td>\n",
       "    </tr>\n",
       "    <tr>\n",
       "      <th>177</th>\n",
       "      <td>178</td>\n",
       "      <td>Male</td>\n",
       "      <td>27</td>\n",
       "      <td>88</td>\n",
       "      <td>69</td>\n",
       "    </tr>\n",
       "    <tr>\n",
       "      <th>178</th>\n",
       "      <td>179</td>\n",
       "      <td>Male</td>\n",
       "      <td>59</td>\n",
       "      <td>93</td>\n",
       "      <td>14</td>\n",
       "    </tr>\n",
       "    <tr>\n",
       "      <th>179</th>\n",
       "      <td>180</td>\n",
       "      <td>Male</td>\n",
       "      <td>35</td>\n",
       "      <td>93</td>\n",
       "      <td>90</td>\n",
       "    </tr>\n",
       "    <tr>\n",
       "      <th>180</th>\n",
       "      <td>181</td>\n",
       "      <td>Female</td>\n",
       "      <td>37</td>\n",
       "      <td>97</td>\n",
       "      <td>32</td>\n",
       "    </tr>\n",
       "    <tr>\n",
       "      <th>181</th>\n",
       "      <td>182</td>\n",
       "      <td>Female</td>\n",
       "      <td>32</td>\n",
       "      <td>97</td>\n",
       "      <td>86</td>\n",
       "    </tr>\n",
       "    <tr>\n",
       "      <th>182</th>\n",
       "      <td>183</td>\n",
       "      <td>Male</td>\n",
       "      <td>46</td>\n",
       "      <td>98</td>\n",
       "      <td>15</td>\n",
       "    </tr>\n",
       "    <tr>\n",
       "      <th>183</th>\n",
       "      <td>184</td>\n",
       "      <td>Female</td>\n",
       "      <td>29</td>\n",
       "      <td>98</td>\n",
       "      <td>88</td>\n",
       "    </tr>\n",
       "    <tr>\n",
       "      <th>184</th>\n",
       "      <td>185</td>\n",
       "      <td>Female</td>\n",
       "      <td>41</td>\n",
       "      <td>99</td>\n",
       "      <td>39</td>\n",
       "    </tr>\n",
       "    <tr>\n",
       "      <th>185</th>\n",
       "      <td>186</td>\n",
       "      <td>Male</td>\n",
       "      <td>30</td>\n",
       "      <td>99</td>\n",
       "      <td>97</td>\n",
       "    </tr>\n",
       "    <tr>\n",
       "      <th>186</th>\n",
       "      <td>187</td>\n",
       "      <td>Female</td>\n",
       "      <td>54</td>\n",
       "      <td>101</td>\n",
       "      <td>24</td>\n",
       "    </tr>\n",
       "    <tr>\n",
       "      <th>187</th>\n",
       "      <td>188</td>\n",
       "      <td>Male</td>\n",
       "      <td>28</td>\n",
       "      <td>101</td>\n",
       "      <td>68</td>\n",
       "    </tr>\n",
       "    <tr>\n",
       "      <th>188</th>\n",
       "      <td>189</td>\n",
       "      <td>Female</td>\n",
       "      <td>41</td>\n",
       "      <td>103</td>\n",
       "      <td>17</td>\n",
       "    </tr>\n",
       "    <tr>\n",
       "      <th>189</th>\n",
       "      <td>190</td>\n",
       "      <td>Female</td>\n",
       "      <td>36</td>\n",
       "      <td>103</td>\n",
       "      <td>85</td>\n",
       "    </tr>\n",
       "    <tr>\n",
       "      <th>190</th>\n",
       "      <td>191</td>\n",
       "      <td>Female</td>\n",
       "      <td>34</td>\n",
       "      <td>103</td>\n",
       "      <td>23</td>\n",
       "    </tr>\n",
       "    <tr>\n",
       "      <th>191</th>\n",
       "      <td>192</td>\n",
       "      <td>Female</td>\n",
       "      <td>32</td>\n",
       "      <td>103</td>\n",
       "      <td>69</td>\n",
       "    </tr>\n",
       "    <tr>\n",
       "      <th>192</th>\n",
       "      <td>193</td>\n",
       "      <td>Male</td>\n",
       "      <td>33</td>\n",
       "      <td>113</td>\n",
       "      <td>8</td>\n",
       "    </tr>\n",
       "    <tr>\n",
       "      <th>193</th>\n",
       "      <td>194</td>\n",
       "      <td>Female</td>\n",
       "      <td>38</td>\n",
       "      <td>113</td>\n",
       "      <td>91</td>\n",
       "    </tr>\n",
       "    <tr>\n",
       "      <th>194</th>\n",
       "      <td>195</td>\n",
       "      <td>Female</td>\n",
       "      <td>47</td>\n",
       "      <td>120</td>\n",
       "      <td>16</td>\n",
       "    </tr>\n",
       "    <tr>\n",
       "      <th>195</th>\n",
       "      <td>196</td>\n",
       "      <td>Female</td>\n",
       "      <td>35</td>\n",
       "      <td>120</td>\n",
       "      <td>79</td>\n",
       "    </tr>\n",
       "    <tr>\n",
       "      <th>196</th>\n",
       "      <td>197</td>\n",
       "      <td>Female</td>\n",
       "      <td>45</td>\n",
       "      <td>126</td>\n",
       "      <td>28</td>\n",
       "    </tr>\n",
       "    <tr>\n",
       "      <th>197</th>\n",
       "      <td>198</td>\n",
       "      <td>Male</td>\n",
       "      <td>32</td>\n",
       "      <td>126</td>\n",
       "      <td>74</td>\n",
       "    </tr>\n",
       "    <tr>\n",
       "      <th>198</th>\n",
       "      <td>199</td>\n",
       "      <td>Male</td>\n",
       "      <td>32</td>\n",
       "      <td>137</td>\n",
       "      <td>18</td>\n",
       "    </tr>\n",
       "    <tr>\n",
       "      <th>199</th>\n",
       "      <td>200</td>\n",
       "      <td>Male</td>\n",
       "      <td>30</td>\n",
       "      <td>137</td>\n",
       "      <td>83</td>\n",
       "    </tr>\n",
       "  </tbody>\n",
       "</table>\n",
       "<p>200 rows × 5 columns</p>\n",
       "</div>"
      ],
      "text/plain": [
       "     CustomerID   Genre  Age  Annual Income (k$)  Spending Score (1-100)\n",
       "0             1    Male   19                  15                      39\n",
       "1             2    Male   21                  15                      81\n",
       "2             3  Female   20                  16                       6\n",
       "3             4  Female   23                  16                      77\n",
       "4             5  Female   31                  17                      40\n",
       "..          ...     ...  ...                 ...                     ...\n",
       "195         196  Female   35                 120                      79\n",
       "196         197  Female   45                 126                      28\n",
       "197         198    Male   32                 126                      74\n",
       "198         199    Male   32                 137                      18\n",
       "199         200    Male   30                 137                      83\n",
       "\n",
       "[200 rows x 5 columns]"
      ]
     },
     "execution_count": 38,
     "metadata": {},
     "output_type": "execute_result"
    }
   ],
   "source": [
    "data"
   ]
  },
  {
   "cell_type": "code",
   "execution_count": 36,
   "metadata": {},
   "outputs": [
    {
     "data": {
      "text/plain": [
       "array([[ 15,  39],\n",
       "       [ 15,  81],\n",
       "       [ 16,   6],\n",
       "       [ 16,  77],\n",
       "       [ 17,  40],\n",
       "       [ 17,  76],\n",
       "       [ 18,   6],\n",
       "       [ 18,  94],\n",
       "       [ 19,   3],\n",
       "       [ 19,  72],\n",
       "       [ 19,  14],\n",
       "       [ 19,  99],\n",
       "       [ 20,  15],\n",
       "       [ 20,  77],\n",
       "       [ 20,  13],\n",
       "       [ 20,  79],\n",
       "       [ 21,  35],\n",
       "       [ 21,  66],\n",
       "       [ 23,  29],\n",
       "       [ 23,  98],\n",
       "       [ 24,  35],\n",
       "       [ 24,  73],\n",
       "       [ 25,   5],\n",
       "       [ 25,  73],\n",
       "       [ 28,  14],\n",
       "       [ 28,  82],\n",
       "       [ 28,  32],\n",
       "       [ 28,  61],\n",
       "       [ 29,  31],\n",
       "       [ 29,  87],\n",
       "       [ 30,   4],\n",
       "       [ 30,  73],\n",
       "       [ 33,   4],\n",
       "       [ 33,  92],\n",
       "       [ 33,  14],\n",
       "       [ 33,  81],\n",
       "       [ 34,  17],\n",
       "       [ 34,  73],\n",
       "       [ 37,  26],\n",
       "       [ 37,  75],\n",
       "       [ 38,  35],\n",
       "       [ 38,  92],\n",
       "       [ 39,  36],\n",
       "       [ 39,  61],\n",
       "       [ 39,  28],\n",
       "       [ 39,  65],\n",
       "       [ 40,  55],\n",
       "       [ 40,  47],\n",
       "       [ 40,  42],\n",
       "       [ 40,  42],\n",
       "       [ 42,  52],\n",
       "       [ 42,  60],\n",
       "       [ 43,  54],\n",
       "       [ 43,  60],\n",
       "       [ 43,  45],\n",
       "       [ 43,  41],\n",
       "       [ 44,  50],\n",
       "       [ 44,  46],\n",
       "       [ 46,  51],\n",
       "       [ 46,  46],\n",
       "       [ 46,  56],\n",
       "       [ 46,  55],\n",
       "       [ 47,  52],\n",
       "       [ 47,  59],\n",
       "       [ 48,  51],\n",
       "       [ 48,  59],\n",
       "       [ 48,  50],\n",
       "       [ 48,  48],\n",
       "       [ 48,  59],\n",
       "       [ 48,  47],\n",
       "       [ 49,  55],\n",
       "       [ 49,  42],\n",
       "       [ 50,  49],\n",
       "       [ 50,  56],\n",
       "       [ 54,  47],\n",
       "       [ 54,  54],\n",
       "       [ 54,  53],\n",
       "       [ 54,  48],\n",
       "       [ 54,  52],\n",
       "       [ 54,  42],\n",
       "       [ 54,  51],\n",
       "       [ 54,  55],\n",
       "       [ 54,  41],\n",
       "       [ 54,  44],\n",
       "       [ 54,  57],\n",
       "       [ 54,  46],\n",
       "       [ 57,  58],\n",
       "       [ 57,  55],\n",
       "       [ 58,  60],\n",
       "       [ 58,  46],\n",
       "       [ 59,  55],\n",
       "       [ 59,  41],\n",
       "       [ 60,  49],\n",
       "       [ 60,  40],\n",
       "       [ 60,  42],\n",
       "       [ 60,  52],\n",
       "       [ 60,  47],\n",
       "       [ 60,  50],\n",
       "       [ 61,  42],\n",
       "       [ 61,  49],\n",
       "       [ 62,  41],\n",
       "       [ 62,  48],\n",
       "       [ 62,  59],\n",
       "       [ 62,  55],\n",
       "       [ 62,  56],\n",
       "       [ 62,  42],\n",
       "       [ 63,  50],\n",
       "       [ 63,  46],\n",
       "       [ 63,  43],\n",
       "       [ 63,  48],\n",
       "       [ 63,  52],\n",
       "       [ 63,  54],\n",
       "       [ 64,  42],\n",
       "       [ 64,  46],\n",
       "       [ 65,  48],\n",
       "       [ 65,  50],\n",
       "       [ 65,  43],\n",
       "       [ 65,  59],\n",
       "       [ 67,  43],\n",
       "       [ 67,  57],\n",
       "       [ 67,  56],\n",
       "       [ 67,  40],\n",
       "       [ 69,  58],\n",
       "       [ 69,  91],\n",
       "       [ 70,  29],\n",
       "       [ 70,  77],\n",
       "       [ 71,  35],\n",
       "       [ 71,  95],\n",
       "       [ 71,  11],\n",
       "       [ 71,  75],\n",
       "       [ 71,   9],\n",
       "       [ 71,  75],\n",
       "       [ 72,  34],\n",
       "       [ 72,  71],\n",
       "       [ 73,   5],\n",
       "       [ 73,  88],\n",
       "       [ 73,   7],\n",
       "       [ 73,  73],\n",
       "       [ 74,  10],\n",
       "       [ 74,  72],\n",
       "       [ 75,   5],\n",
       "       [ 75,  93],\n",
       "       [ 76,  40],\n",
       "       [ 76,  87],\n",
       "       [ 77,  12],\n",
       "       [ 77,  97],\n",
       "       [ 77,  36],\n",
       "       [ 77,  74],\n",
       "       [ 78,  22],\n",
       "       [ 78,  90],\n",
       "       [ 78,  17],\n",
       "       [ 78,  88],\n",
       "       [ 78,  20],\n",
       "       [ 78,  76],\n",
       "       [ 78,  16],\n",
       "       [ 78,  89],\n",
       "       [ 78,   1],\n",
       "       [ 78,  78],\n",
       "       [ 78,   1],\n",
       "       [ 78,  73],\n",
       "       [ 79,  35],\n",
       "       [ 79,  83],\n",
       "       [ 81,   5],\n",
       "       [ 81,  93],\n",
       "       [ 85,  26],\n",
       "       [ 85,  75],\n",
       "       [ 86,  20],\n",
       "       [ 86,  95],\n",
       "       [ 87,  27],\n",
       "       [ 87,  63],\n",
       "       [ 87,  13],\n",
       "       [ 87,  75],\n",
       "       [ 87,  10],\n",
       "       [ 87,  92],\n",
       "       [ 88,  13],\n",
       "       [ 88,  86],\n",
       "       [ 88,  15],\n",
       "       [ 88,  69],\n",
       "       [ 93,  14],\n",
       "       [ 93,  90],\n",
       "       [ 97,  32],\n",
       "       [ 97,  86],\n",
       "       [ 98,  15],\n",
       "       [ 98,  88],\n",
       "       [ 99,  39],\n",
       "       [ 99,  97],\n",
       "       [101,  24],\n",
       "       [101,  68],\n",
       "       [103,  17],\n",
       "       [103,  85],\n",
       "       [103,  23],\n",
       "       [103,  69],\n",
       "       [113,   8],\n",
       "       [113,  91],\n",
       "       [120,  16],\n",
       "       [120,  79],\n",
       "       [126,  28],\n",
       "       [126,  74],\n",
       "       [137,  18],\n",
       "       [137,  83]], dtype=int64)"
      ]
     },
     "execution_count": 36,
     "metadata": {},
     "output_type": "execute_result"
    }
   ],
   "source": [
    "X"
   ]
  },
  {
   "cell_type": "code",
   "execution_count": null,
   "metadata": {},
   "outputs": [],
   "source": [
    "# linkage1\n",
    "# dendrogram\n",
    "\n",
    "#from scipy.cluster.hierarchy import linkage,dendrogram,cut_tree\n",
    "#link1=linkage(data,method='complete')\n",
    "#den1=dendrogram(link1)\n",
    "#plt.show()"
   ]
  },
  {
   "cell_type": "code",
   "execution_count": 42,
   "metadata": {},
   "outputs": [
    {
     "data": {
      "text/plain": [
       "pandas.core.frame.DataFrame"
      ]
     },
     "execution_count": 42,
     "metadata": {},
     "output_type": "execute_result"
    }
   ],
   "source": [
    "type(data)"
   ]
  },
  {
   "cell_type": "code",
   "execution_count": 44,
   "metadata": {},
   "outputs": [
    {
     "data": {
      "text/plain": [
       "numpy.ndarray"
      ]
     },
     "execution_count": 44,
     "metadata": {},
     "output_type": "execute_result"
    }
   ],
   "source": [
    "type(X)"
   ]
  },
  {
   "cell_type": "code",
   "execution_count": 37,
   "metadata": {},
   "outputs": [],
   "source": [
    "from scipy.cluster.hierarchy import linkage,dendrogram,cut_tree"
   ]
  },
  {
   "cell_type": "markdown",
   "metadata": {},
   "source": [
    "###### There are several ways to measure the distance between clusters in order to decide the rules for clustering, and they are often called Linkage Methods. Some of the common linkage methods are:\n",
    "\n",
    " - $Complete-linkage$: the distance between two clusters is defined as the longest distance between two points in each        cluster.\n",
    " - $Single-linkage$: the distance between two clusters is defined as the shortest distance between two points in each cluster. This linkage may be used to detect high values in your dataset which may be outliers as they will be merged at the end."
   ]
  },
  {
   "cell_type": "code",
   "execution_count": 39,
   "metadata": {},
   "outputs": [],
   "source": [
    "link1=linkage(X,method='complete')"
   ]
  },
  {
   "cell_type": "code",
   "execution_count": 40,
   "metadata": {},
   "outputs": [
    {
     "data": {
      "text/plain": [
       "array([[ 65.        ,  68.        ,   0.        ,   2.        ],\n",
       "       [ 48.        ,  49.        ,   0.        ,   2.        ],\n",
       "       [129.        , 131.        ,   0.        ,   2.        ],\n",
       "       [156.        , 158.        ,   0.        ,   2.        ],\n",
       "       [ 21.        ,  23.        ,   1.        ,   2.        ],\n",
       "       [ 51.        ,  53.        ,   1.        ,   2.        ],\n",
       "       [ 63.        , 200.        ,   1.        ,   3.        ],\n",
       "       [ 60.        ,  61.        ,   1.        ,   2.        ],\n",
       "       [ 64.        ,  66.        ,   1.        ,   2.        ],\n",
       "       [ 67.        ,  69.        ,   1.        ,   2.        ],\n",
       "       [ 74.        ,  77.        ,   1.        ,   2.        ],\n",
       "       [ 78.        ,  80.        ,   1.        ,   2.        ],\n",
       "       [ 75.        ,  81.        ,   1.        ,   2.        ],\n",
       "       [ 92.        ,  97.        ,   1.        ,   2.        ],\n",
       "       [101.        , 109.        ,   1.        ,   2.        ],\n",
       "       [103.        , 104.        ,   1.        ,   2.        ],\n",
       "       [ 79.        ,  82.        ,   1.        ,   2.        ],\n",
       "       [ 94.        ,  98.        ,   1.        ,   2.        ],\n",
       "       [107.        , 113.        ,   1.        ,   2.        ],\n",
       "       [100.        , 105.        ,   1.        ,   2.        ],\n",
       "       [119.        , 120.        ,   1.        ,   2.        ],\n",
       "       [170.        , 174.        ,   1.        ,   2.        ],\n",
       "       [150.        , 154.        ,   1.        ,   2.        ],\n",
       "       [149.        , 155.        ,   1.        ,   2.        ],\n",
       "       [  3.        ,   5.        ,   1.41421356,   2.        ],\n",
       "       [ 26.        ,  28.        ,   1.41421356,   2.        ],\n",
       "       [ 10.        ,  14.        ,   1.41421356,   2.        ],\n",
       "       [ 70.        ,  73.        ,   1.41421356,   2.        ],\n",
       "       [ 58.        ,  62.        ,   1.41421356,   2.        ],\n",
       "       [ 54.        ,  57.        ,   1.41421356,   2.        ],\n",
       "       [ 99.        , 213.        ,   1.41421356,   3.        ],\n",
       "       [ 40.        ,  42.        ,   1.41421356,   2.        ],\n",
       "       [ 91.        ,  93.        ,   1.41421356,   2.        ],\n",
       "       [108.        , 112.        ,   1.41421356,   2.        ],\n",
       "       [126.        , 132.        ,   1.41421356,   2.        ],\n",
       "       [137.        , 139.        ,   1.41421356,   2.        ],\n",
       "       [147.        , 159.        ,   1.41421356,   2.        ],\n",
       "       [ 13.        ,  15.        ,   2.        ,   2.        ],\n",
       "       [  2.        ,   6.        ,   2.        ,   2.        ],\n",
       "       [ 12.        , 226.        ,   2.        ,   3.        ],\n",
       "       [ 85.        , 210.        ,   2.        ,   3.        ],\n",
       "       [ 76.        , 212.        ,   2.        ,   3.        ],\n",
       "       [ 87.        ,  90.        ,   2.        ,   2.        ],\n",
       "       [106.        , 110.        ,   2.        ,   2.        ],\n",
       "       [114.        , 115.        ,   2.        ,   2.        ],\n",
       "       [116.        , 233.        ,   2.        ,   3.        ],\n",
       "       [148.        , 152.        ,   2.        ,   2.        ],\n",
       "       [128.        , 130.        ,   2.        ,   2.        ],\n",
       "       [153.        , 157.        ,   2.        ,   2.        ],\n",
       "       [151.        , 223.        ,   2.        ,   3.        ],\n",
       "       [165.        , 171.        ,   2.        ,   2.        ],\n",
       "       [134.        , 136.        ,   2.        ,   2.        ],\n",
       "       [  0.        ,   4.        ,   2.23606798,   2.        ],\n",
       "       [ 50.        ,  52.        ,   2.23606798,   2.        ],\n",
       "       [208.        , 228.        ,   2.23606798,   4.        ],\n",
       "       [ 86.        ,  88.        ,   2.23606798,   2.        ],\n",
       "       [ 89.        ,  96.        ,   2.23606798,   2.        ],\n",
       "       [217.        , 232.        ,   2.23606798,   4.        ],\n",
       "       [111.        , 215.        ,   2.23606798,   3.        ],\n",
       "       [146.        , 160.        ,   2.23606798,   2.        ],\n",
       "       [164.        , 168.        ,   2.23606798,   2.        ],\n",
       "       [176.        , 221.        ,   2.23606798,   3.        ],\n",
       "       [125.        , 202.        ,   2.23606798,   3.        ],\n",
       "       [133.        , 235.        ,   2.23606798,   3.        ],\n",
       "       [181.        , 183.        ,   2.23606798,   2.        ],\n",
       "       [187.        , 191.        ,   2.23606798,   2.        ],\n",
       "       [186.        , 190.        ,   2.23606798,   2.        ],\n",
       "       [ 59.        , 209.        ,   2.82842712,   3.        ],\n",
       "       [214.        , 218.        ,   2.82842712,   4.        ],\n",
       "       [ 38.        ,  44.        ,   2.82842712,   2.        ],\n",
       "       [122.        , 220.        ,   2.82842712,   3.        ],\n",
       "       [140.        , 251.        ,   2.82842712,   3.        ],\n",
       "       [ 16.        ,  20.        ,   3.        ,   2.        ],\n",
       "       [ 30.        ,  32.        ,   3.        ,   2.        ],\n",
       "       [ 83.        , 216.        ,   3.        ,   3.        ],\n",
       "       [118.        , 121.        ,   3.        ,   2.        ],\n",
       "       [102.        , 117.        ,   3.        ,   2.        ],\n",
       "       [ 34.        ,  36.        ,   3.16227766,   2.        ],\n",
       "       [ 95.        , 230.        ,   3.16227766,   4.        ],\n",
       "       [ 55.        , 201.        ,   3.16227766,   3.        ],\n",
       "       [219.        , 257.        ,   3.16227766,   6.        ],\n",
       "       [138.        , 247.        ,   3.16227766,   3.        ],\n",
       "       [135.        , 143.        ,   3.16227766,   2.        ],\n",
       "       [167.        , 173.        ,   3.16227766,   2.        ],\n",
       "       [ 37.        ,  39.        ,   3.60555128,   2.        ],\n",
       "       [ 46.        , 253.        ,   3.60555128,   3.        ],\n",
       "       [ 43.        ,  45.        ,   4.        ,   2.        ],\n",
       "       [ 84.        , 241.        ,   4.        ,   4.        ],\n",
       "       [ 11.        ,  19.        ,   4.12310563,   2.        ],\n",
       "       [207.        , 227.        ,   4.12310563,   4.        ],\n",
       "       [ 56.        , 254.        ,   4.12310563,   5.        ],\n",
       "       [ 47.        , 229.        ,   4.12310563,   3.        ],\n",
       "       [  8.        , 238.        ,   4.24264069,   3.        ],\n",
       "       [243.        , 278.        ,   4.24264069,   6.        ],\n",
       "       [224.        , 237.        ,   4.47213595,   4.        ],\n",
       "       [206.        , 289.        ,   4.47213595,   7.        ],\n",
       "       [244.        , 268.        ,   4.47213595,   6.        ],\n",
       "       [123.        , 127.        ,   4.47213595,   2.        ],\n",
       "       [141.        , 145.        ,   4.47213595,   2.        ],\n",
       "       [ 33.        ,  41.        ,   5.        ,   2.        ],\n",
       "       [ 72.        , 267.        ,   5.        ,   4.        ],\n",
       "       [245.        , 275.        ,   5.        ,   5.        ],\n",
       "       [236.        , 248.        ,   5.        ,   4.        ],\n",
       "       [162.        , 203.        ,   5.        ,   3.        ],\n",
       "       [ 25.        ,  29.        ,   5.09901951,   2.        ],\n",
       "       [242.        , 255.        ,   5.09901951,   4.        ],\n",
       "       [144.        , 222.        ,   5.09901951,   3.        ],\n",
       "       [172.        , 261.        ,   5.09901951,   4.        ],\n",
       "       [178.        , 182.        ,   5.09901951,   2.        ],\n",
       "       [ 71.        , 274.        ,   5.38516481,   4.        ],\n",
       "       [258.        , 276.        ,   5.38516481,   5.        ],\n",
       "       [249.        , 282.        ,   5.38516481,   5.        ],\n",
       "       [179.        , 264.        ,   5.65685425,   3.        ],\n",
       "       [142.        , 259.        ,   5.83095189,   3.        ],\n",
       "       [ 31.        , 204.        ,   6.        ,   3.        ],\n",
       "       [211.        , 287.        ,   6.        ,   6.        ],\n",
       "       [163.        , 298.        ,   6.        ,   3.        ],\n",
       "       [290.        , 300.        ,   6.08276253,   9.        ],\n",
       "       [240.        , 256.        ,   6.08276253,   5.        ],\n",
       "       [124.        , 234.        ,   6.08276253,   3.        ],\n",
       "       [169.        , 177.        ,   6.08276253,   2.        ],\n",
       "       [ 18.        , 272.        ,   6.32455532,   3.        ],\n",
       "       [  9.        ,  17.        ,   6.32455532,   2.        ],\n",
       "       [  1.        , 294.        ,   6.40312424,   5.        ],\n",
       "       [  7.        , 288.        ,   6.40312424,   3.        ],\n",
       "       [205.        , 286.        ,   6.40312424,   4.        ],\n",
       "       [262.        , 263.        ,   6.40312424,   6.        ],\n",
       "       [ 24.        , 277.        ,   6.70820393,   3.        ],\n",
       "       [279.        , 291.        ,   6.70820393,   6.        ],\n",
       "       [166.        , 260.        ,   7.07106781,   3.        ],\n",
       "       [ 35.        , 304.        ,   7.21110255,   3.        ],\n",
       "       [293.        , 296.        ,   7.21110255,  12.        ],\n",
       "       [271.        , 281.        ,   7.21110255,   6.        ],\n",
       "       [180.        , 184.        ,   7.28010989,   2.        ],\n",
       "       [188.        , 266.        ,   7.28010989,   3.        ],\n",
       "       [270.        , 310.        ,   7.61577311,   8.        ],\n",
       "       [161.        , 311.        ,   7.81024968,   6.        ],\n",
       "       [195.        , 197.        ,   7.81024968,   2.        ],\n",
       "       [ 22.        , 273.        ,   8.06225775,   3.        ],\n",
       "       [280.        , 301.        ,   8.24621125,  11.        ],\n",
       "       [225.        , 321.        ,   8.94427191,   5.        ],\n",
       "       [175.        , 283.        ,   9.21954446,   3.        ],\n",
       "       [302.        , 326.        ,   9.21954446,  10.        ],\n",
       "       [305.        , 315.        ,   9.8488578 ,  10.        ],\n",
       "       [285.        , 295.        ,  10.04987562,  10.        ],\n",
       "       [246.        , 306.        ,  10.04987562,   5.        ],\n",
       "       [231.        , 269.        ,  10.19803903,   4.        ],\n",
       "       [192.        , 194.        ,  10.63014581,   2.        ],\n",
       "       [189.        , 312.        ,  11.18033989,   4.        ],\n",
       "       [314.        , 322.        ,  11.40175425,   5.        ],\n",
       "       [318.        , 331.        ,  11.70469991,  17.        ],\n",
       "       [239.        , 292.        ,  12.04159458,   6.        ],\n",
       "       [307.        , 308.        ,  12.08304597,   6.        ],\n",
       "       [297.        , 316.        ,  12.16552506,   5.        ],\n",
       "       [250.        , 320.        ,  12.16552506,   4.        ],\n",
       "       [317.        , 328.        ,  12.20655562,  15.        ],\n",
       "       [303.        , 332.        ,  12.20655562,   9.        ],\n",
       "       [313.        , 319.        ,  12.52996409,   6.        ],\n",
       "       [185.        , 348.        ,  12.64911064,   5.        ],\n",
       "       [299.        , 330.        ,  14.14213562,   5.        ],\n",
       "       [ 27.        , 349.        ,  14.2126704 ,   6.        ],\n",
       "       [325.        , 344.        ,  14.2126704 ,  14.        ],\n",
       "       [336.        , 353.        ,  14.4222051 ,  11.        ],\n",
       "       [196.        , 198.        ,  14.86606875,   2.        ],\n",
       "       [327.        , 338.        ,  15.        ,   6.        ],\n",
       "       [309.        , 355.        ,  15.23154621,  19.        ],\n",
       "       [343.        , 350.        ,  15.23154621,  27.        ],\n",
       "       [252.        , 340.        ,  16.1245155 ,   7.        ],\n",
       "       [329.        , 352.        ,  17.02938637,   9.        ],\n",
       "       [199.        , 337.        ,  17.4642492 ,   3.        ],\n",
       "       [284.        , 360.        ,  18.35755975,   8.        ],\n",
       "       [265.        , 354.        ,  18.97366596,   6.        ],\n",
       "       [335.        , 366.        ,  19.20937271,  35.        ],\n",
       "       [341.        , 362.        ,  19.6468827 ,  14.        ],\n",
       "       [193.        , 358.        ,  20.02498439,   6.        ],\n",
       "       [334.        , 368.        ,  20.61552813,  12.        ],\n",
       "       [339.        , 357.        ,  20.88061302,  17.        ],\n",
       "       [345.        , 356.        ,  21.        ,  14.        ],\n",
       "       [351.        , 364.        ,  21.09502311,  12.        ],\n",
       "       [324.        , 359.        ,  22.8035085 ,   8.        ],\n",
       "       [323.        , 370.        ,  23.85372088,  13.        ],\n",
       "       [347.        , 363.        ,  26.        ,   4.        ],\n",
       "       [346.        , 367.        ,  26.40075756,  11.        ],\n",
       "       [342.        , 373.        ,  27.78488798,  24.        ],\n",
       "       [361.        , 365.        ,  28.3019434 ,  33.        ],\n",
       "       [333.        , 375.        ,  31.38470965,  14.        ],\n",
       "       [372.        , 384.        ,  33.12099032,  68.        ],\n",
       "       [371.        , 374.        ,  38.20994635,  12.        ],\n",
       "       [379.        , 380.        ,  39.05124838,  21.        ],\n",
       "       [378.        , 382.        ,  39.39543121,  23.        ],\n",
       "       [377.        , 385.        ,  43.41658669,  28.        ],\n",
       "       [383.        , 387.        ,  45.61797891,  36.        ],\n",
       "       [376.        , 386.        ,  50.        ,  85.        ],\n",
       "       [381.        , 390.        ,  66.61080993,  32.        ],\n",
       "       [369.        , 391.        ,  68.46897107,  39.        ],\n",
       "       [389.        , 392.        ,  74.33034374, 108.        ],\n",
       "       [388.        , 395.        ,  96.02603814, 129.        ],\n",
       "       [393.        , 394.        , 101.41498903,  71.        ],\n",
       "       [396.        , 397.        , 143.42245291, 200.        ]])"
      ]
     },
     "execution_count": 40,
     "metadata": {},
     "output_type": "execute_result"
    }
   ],
   "source": [
    "link1"
   ]
  },
  {
   "cell_type": "code",
   "execution_count": 45,
   "metadata": {},
   "outputs": [
    {
     "data": {
      "image/png": "[encoded data removed]",
      "text/plain": [
       "<Figure size 432x288 with 1 Axes>"
      ]
     },
     "metadata": {
      "needs_background": "light"
     },
     "output_type": "display_data"
    }
   ],
   "source": [
    "den1=dendrogram(link1)\n",
    "plt.xlabel('Clusters')\n",
    "plt.ylabel('disatnce')\n",
    "plt.title('Dendrogram')\n",
    "plt.show()"
   ]
  },
  {
   "cell_type": "code",
   "execution_count": null,
   "metadata": {},
   "outputs": [],
   "source": [
    "# Green\n",
    "# Red\n",
    "# light blue\n",
    "# Blue"
   ]
  },
  {
   "cell_type": "code",
   "execution_count": 47,
   "metadata": {},
   "outputs": [],
   "source": [
    "link2=linkage(X,method='single')"
   ]
  },
  {
   "cell_type": "code",
   "execution_count": 48,
   "metadata": {},
   "outputs": [
    {
     "data": {
      "text/plain": [
       "array([[ 48.        ,  49.        ,   0.        ,   2.        ],\n",
       "       [ 65.        ,  68.        ,   0.        ,   2.        ],\n",
       "       [156.        , 158.        ,   0.        ,   2.        ],\n",
       "       [129.        , 131.        ,   0.        ,   2.        ],\n",
       "       [ 67.        ,  69.        ,   1.        ,   2.        ],\n",
       "       [ 64.        ,  66.        ,   1.        ,   2.        ],\n",
       "       [ 60.        ,  61.        ,   1.        ,   2.        ],\n",
       "       [ 63.        , 201.        ,   1.        ,   3.        ],\n",
       "       [ 51.        ,  53.        ,   1.        ,   2.        ],\n",
       "       [ 74.        ,  77.        ,   1.        ,   2.        ],\n",
       "       [ 85.        , 209.        ,   1.        ,   3.        ],\n",
       "       [ 79.        ,  82.        ,   1.        ,   2.        ],\n",
       "       [ 78.        ,  80.        ,   1.        ,   2.        ],\n",
       "       [ 76.        , 212.        ,   1.        ,   3.        ],\n",
       "       [ 75.        , 213.        ,   1.        ,   4.        ],\n",
       "       [ 81.        , 214.        ,   1.        ,   5.        ],\n",
       "       [103.        , 104.        ,   1.        ,   2.        ],\n",
       "       [101.        , 109.        ,   1.        ,   2.        ],\n",
       "       [ 92.        ,  99.        ,   1.        ,   2.        ],\n",
       "       [ 97.        , 218.        ,   1.        ,   3.        ],\n",
       "       [107.        , 113.        ,   1.        ,   2.        ],\n",
       "       [ 98.        , 105.        ,   1.        ,   2.        ],\n",
       "       [ 94.        , 221.        ,   1.        ,   3.        ],\n",
       "       [100.        , 222.        ,   1.        ,   4.        ],\n",
       "       [119.        , 120.        ,   1.        ,   2.        ],\n",
       "       [ 21.        ,  23.        ,   1.        ,   2.        ],\n",
       "       [150.        , 154.        ,   1.        ,   2.        ],\n",
       "       [170.        , 174.        ,   1.        ,   2.        ],\n",
       "       [151.        , 155.        ,   1.        ,   2.        ],\n",
       "       [149.        , 228.        ,   1.        ,   3.        ],\n",
       "       [ 26.        ,  28.        ,   1.41421356,   2.        ],\n",
       "       [ 40.        ,  42.        ,   1.41421356,   2.        ],\n",
       "       [ 54.        ,  57.        ,   1.41421356,   2.        ],\n",
       "       [ 62.        , 205.        ,   1.41421356,   3.        ],\n",
       "       [ 58.        , 233.        ,   1.41421356,   4.        ],\n",
       "       [ 70.        ,  73.        ,   1.41421356,   2.        ],\n",
       "       [111.        , 216.        ,   1.41421356,   3.        ],\n",
       "       [217.        , 219.        ,   1.41421356,   5.        ],\n",
       "       [108.        , 223.        ,   1.41421356,   5.        ],\n",
       "       [ 91.        , 238.        ,   1.41421356,   6.        ],\n",
       "       [ 93.        , 239.        ,   1.41421356,   7.        ],\n",
       "       [112.        , 240.        ,   1.41421356,   8.        ],\n",
       "       [116.        , 241.        ,   1.41421356,   9.        ],\n",
       "       [126.        , 132.        ,   1.41421356,   2.        ],\n",
       "       [  3.        ,   5.        ,   1.41421356,   2.        ],\n",
       "       [ 10.        ,  12.        ,   1.41421356,   2.        ],\n",
       "       [ 14.        , 245.        ,   1.41421356,   3.        ],\n",
       "       [137.        , 139.        ,   1.41421356,   2.        ],\n",
       "       [147.        , 159.        ,   1.41421356,   2.        ],\n",
       "       [ 59.        , 232.        ,   2.        ,   3.        ],\n",
       "       [204.        , 234.        ,   2.        ,   6.        ],\n",
       "       [ 83.        , 210.        ,   2.        ,   4.        ],\n",
       "       [211.        , 251.        ,   2.        ,   6.        ],\n",
       "       [ 84.        , 215.        ,   2.        ,   6.        ],\n",
       "       [ 87.        ,  90.        ,   2.        ,   2.        ],\n",
       "       [110.        , 236.        ,   2.        ,   4.        ],\n",
       "       [106.        , 255.        ,   2.        ,   5.        ],\n",
       "       [237.        , 256.        ,   2.        ,  10.        ],\n",
       "       [ 95.        , 257.        ,   2.        ,  11.        ],\n",
       "       [ 96.        , 258.        ,   2.        ,  12.        ],\n",
       "       [220.        , 259.        ,   2.        ,  14.        ],\n",
       "       [114.        , 260.        ,   2.        ,  15.        ],\n",
       "       [115.        , 261.        ,   2.        ,  16.        ],\n",
       "       [118.        , 242.        ,   2.        ,  10.        ],\n",
       "       [ 13.        ,  15.        ,   2.        ,   2.        ],\n",
       "       [  2.        ,   6.        ,   2.        ,   2.        ],\n",
       "       [148.        , 152.        ,   2.        ,   2.        ],\n",
       "       [128.        , 130.        ,   2.        ,   2.        ],\n",
       "       [134.        , 136.        ,   2.        ,   2.        ],\n",
       "       [140.        , 268.        ,   2.        ,   3.        ],\n",
       "       [176.        , 227.        ,   2.        ,   3.        ],\n",
       "       [153.        , 157.        ,   2.        ,   2.        ],\n",
       "       [165.        , 171.        ,   2.        ,   2.        ],\n",
       "       [  0.        ,   4.        ,   2.23606798,   2.        ],\n",
       "       [249.        , 250.        ,   2.23606798,   9.        ],\n",
       "       [ 56.        , 274.        ,   2.23606798,  10.        ],\n",
       "       [ 72.        , 275.        ,   2.23606798,  11.        ],\n",
       "       [ 50.        ,  52.        ,   2.23606798,   2.        ],\n",
       "       [ 86.        ,  88.        ,   2.23606798,   2.        ],\n",
       "       [ 89.        , 262.        ,   2.23606798,  17.        ],\n",
       "       [122.        , 224.        ,   2.23606798,   3.        ],\n",
       "       [146.        , 160.        ,   2.23606798,   2.        ],\n",
       "       [186.        , 190.        ,   2.23606798,   2.        ],\n",
       "       [164.        , 168.        ,   2.23606798,   2.        ],\n",
       "       [133.        , 247.        ,   2.23606798,   3.        ],\n",
       "       [125.        , 203.        ,   2.23606798,   3.        ],\n",
       "       [248.        , 271.        ,   2.23606798,   4.        ],\n",
       "       [143.        , 229.        ,   2.23606798,   4.        ],\n",
       "       [181.        , 183.        ,   2.23606798,   2.        ],\n",
       "       [187.        , 191.        ,   2.23606798,   2.        ],\n",
       "       [ 38.        ,  44.        ,   2.82842712,   2.        ],\n",
       "       [276.        , 277.        ,   2.82842712,  13.        ],\n",
       "       [117.        , 280.        ,   2.82842712,   4.        ],\n",
       "       [267.        , 269.        ,   2.82842712,   5.        ],\n",
       "       [284.        , 285.        ,   2.82842712,   6.        ],\n",
       "       [ 16.        ,  20.        ,   3.        ,   2.        ],\n",
       "       [206.        , 235.        ,   3.        ,   4.        ],\n",
       "       [252.        , 253.        ,   3.        ,  12.        ],\n",
       "       [254.        , 297.        ,   3.        ,  14.        ],\n",
       "       [278.        , 298.        ,   3.        ,  16.        ],\n",
       "       [279.        , 299.        ,   3.        ,  33.        ],\n",
       "       [102.        , 300.        ,   3.        ,  34.        ],\n",
       "       [263.        , 301.        ,   3.        ,  44.        ],\n",
       "       [292.        , 302.        ,   3.        ,  48.        ],\n",
       "       [121.        , 303.        ,   3.        ,  49.        ],\n",
       "       [ 30.        ,  32.        ,   3.        ,   2.        ],\n",
       "       [226.        , 266.        ,   3.        ,   4.        ],\n",
       "       [172.        , 270.        ,   3.        ,   4.        ],\n",
       "       [ 55.        , 200.        ,   3.16227766,   3.        ],\n",
       "       [ 46.        , 291.        ,   3.16227766,  14.        ],\n",
       "       [296.        , 309.        ,   3.16227766,  18.        ],\n",
       "       [207.        , 310.        ,   3.16227766,  21.        ],\n",
       "       [ 43.        , 208.        ,   3.16227766,   3.        ],\n",
       "       [244.        , 264.        ,   3.16227766,   4.        ],\n",
       "       [ 34.        ,  36.        ,   3.16227766,   2.        ],\n",
       "       [  8.        , 265.        ,   3.16227766,   3.        ],\n",
       "       [138.        , 293.        ,   3.16227766,   6.        ],\n",
       "       [135.        , 287.        ,   3.16227766,   5.        ],\n",
       "       [167.        , 173.        ,   3.16227766,   2.        ],\n",
       "       [ 47.        , 311.        ,   3.60555128,  22.        ],\n",
       "       [ 37.        ,  39.        ,   3.60555128,   2.        ],\n",
       "       [144.        , 316.        ,   3.60555128,   7.        ],\n",
       "       [286.        , 294.        ,   3.60555128,  10.        ],\n",
       "       [308.        , 319.        ,   4.        ,  25.        ],\n",
       "       [ 45.        , 312.        ,   4.        ,   4.        ],\n",
       "       [ 31.        , 320.        ,   4.        ,   3.        ],\n",
       "       [323.        , 324.        ,   4.12310563,  29.        ],\n",
       "       [304.        , 326.        ,   4.12310563,  78.        ],\n",
       "       [142.        , 281.        ,   4.12310563,   3.        ],\n",
       "       [  1.        , 313.        ,   4.12310563,   5.        ],\n",
       "       [306.        , 321.        ,   4.12310563,  11.        ],\n",
       "       [ 11.        ,  19.        ,   4.12310563,   2.        ],\n",
       "       [141.        , 317.        ,   4.24264069,   6.        ],\n",
       "       [163.        , 332.        ,   4.24264069,   7.        ],\n",
       "       [  9.        , 329.        ,   4.47213595,   6.        ],\n",
       "       [127.        , 333.        ,   4.47213595,   8.        ],\n",
       "       [123.        , 335.        ,   4.47213595,   9.        ],\n",
       "       [145.        , 336.        ,   4.47213595,  10.        ],\n",
       "       [230.        , 295.        ,   5.        ,   4.        ],\n",
       "       [ 71.        , 327.        ,   5.        ,  79.        ],\n",
       "       [225.        , 325.        ,   5.        ,   5.        ],\n",
       "       [ 33.        ,  41.        ,   5.        ,   2.        ],\n",
       "       [ 24.        , 314.        ,   5.        ,   3.        ],\n",
       "       [202.        , 330.        ,   5.        ,  13.        ],\n",
       "       [162.        , 343.        ,   5.        ,  14.        ],\n",
       "       [161.        , 337.        ,   5.        ,  11.        ],\n",
       "       [334.        , 340.        ,   5.09901951,  11.        ],\n",
       "       [ 25.        ,  35.        ,   5.09901951,   2.        ],\n",
       "       [ 29.        , 347.        ,   5.09901951,   3.        ],\n",
       "       [ 22.        , 305.        ,   5.09901951,   3.        ],\n",
       "       [178.        , 307.        ,   5.09901951,   5.        ],\n",
       "       [182.        , 350.        ,   5.09901951,   6.        ],\n",
       "       [  7.        , 331.        ,   5.09901951,   3.        ],\n",
       "       [322.        , 345.        ,   5.09901951,  21.        ],\n",
       "       [124.        , 243.        ,   5.38516481,   3.        ],\n",
       "       [328.        , 354.        ,   5.38516481,   6.        ],\n",
       "       [166.        , 351.        ,   5.38516481,   7.        ],\n",
       "       [188.        , 356.        ,   5.38516481,   8.        ],\n",
       "       [318.        , 353.        ,   5.38516481,  23.        ],\n",
       "       [179.        , 288.        ,   5.38516481,   3.        ],\n",
       "       [ 18.        , 338.        ,   5.83095189,   5.        ],\n",
       "       [189.        , 359.        ,   5.83095189,   4.        ],\n",
       "       [282.        , 357.        ,   6.        ,  10.        ],\n",
       "       [231.        , 339.        ,   6.08276253,  81.        ],\n",
       "       [283.        , 362.        ,   6.08276253,  12.        ],\n",
       "       [175.        , 358.        ,   6.08276253,  24.        ],\n",
       "       [177.        , 272.        ,   6.08276253,   3.        ],\n",
       "       [169.        , 366.        ,   6.08276253,   4.        ],\n",
       "       [ 17.        , 346.        ,   6.32455532,  12.        ],\n",
       "       [315.        , 349.        ,   6.32455532,   6.        ],\n",
       "       [361.        , 365.        ,   6.32455532,  28.        ],\n",
       "       [273.        , 360.        ,   6.40312424,   7.        ],\n",
       "       [355.        , 363.        ,   6.40312424,  87.        ],\n",
       "       [341.        , 348.        ,   6.40312424,   5.        ],\n",
       "       [290.        , 372.        ,   7.07106781,  89.        ],\n",
       "       [367.        , 370.        ,   7.07106781,  32.        ],\n",
       "       [368.        , 373.        ,   7.21110255,  17.        ],\n",
       "       [246.        , 369.        ,   7.28010989,   9.        ],\n",
       "       [180.        , 184.        ,   7.28010989,   2.        ],\n",
       "       [344.        , 364.        ,   7.81024968,  26.        ],\n",
       "       [195.        , 197.        ,   7.81024968,   2.        ],\n",
       "       [342.        , 377.        ,   8.06225775,  12.        ],\n",
       "       [ 27.        , 376.        ,   8.60232527,  18.        ],\n",
       "       [378.        , 379.        ,   8.94427191,  28.        ],\n",
       "       [185.        , 375.        ,   9.05538514,  33.        ],\n",
       "       [371.        , 374.        ,   9.43398113,  96.        ],\n",
       "       [382.        , 385.        ,   9.43398113, 114.        ],\n",
       "       [381.        , 386.        ,   9.48683298, 126.        ],\n",
       "       [383.        , 387.        ,  10.63014581, 154.        ],\n",
       "       [192.        , 194.        ,  10.63014581,   2.        ],\n",
       "       [352.        , 388.        ,  11.66190379, 157.        ],\n",
       "       [193.        , 384.        ,  11.66190379,  34.        ],\n",
       "       [289.        , 391.        ,  13.03840481,  36.        ],\n",
       "       [390.        , 392.        ,  13.34166406, 193.        ],\n",
       "       [196.        , 389.        ,  13.41640786,   3.        ],\n",
       "       [393.        , 394.        ,  13.45362405, 196.        ],\n",
       "       [380.        , 395.        ,  13.89244399, 198.        ],\n",
       "       [199.        , 396.        ,  14.2126704 , 199.        ],\n",
       "       [198.        , 397.        ,  14.86606875, 200.        ]])"
      ]
     },
     "execution_count": 48,
     "metadata": {},
     "output_type": "execute_result"
    }
   ],
   "source": [
    "link2"
   ]
  },
  {
   "cell_type": "code",
   "execution_count": 49,
   "metadata": {},
   "outputs": [
    {
     "data": {
      "image/png": "[encoded data removed]",
      "text/plain": [
       "<Figure size 432x288 with 1 Axes>"
      ]
     },
     "metadata": {
      "needs_background": "light"
     },
     "output_type": "display_data"
    }
   ],
   "source": [
    "den2=dendrogram(link2)\n",
    "plt.xlabel('Clusters')\n",
    "plt.ylabel('disatnce')\n",
    "plt.title('Dendrogram')\n",
    "plt.show()"
   ]
  },
  {
   "cell_type": "code",
   "execution_count": 50,
   "metadata": {},
   "outputs": [
    {
     "data": {
      "image/png": "[encoded data removed]",
      "text/plain": [
       "<Figure size 432x288 with 1 Axes>"
      ]
     },
     "metadata": {
      "needs_background": "light"
     },
     "output_type": "display_data"
    }
   ],
   "source": [
    "from scipy.cluster.hierarchy import linkage,dendrogram,cut_tree\n",
    "link1=linkage(X,method='complete')\n",
    "den1=dendrogram(link1)\n",
    "plt.show()"
   ]
  },
  {
   "cell_type": "code",
   "execution_count": 51,
   "metadata": {},
   "outputs": [
    {
     "data": {
      "image/png": "[encoded data removed]",
      "text/plain": [
       "<Figure size 432x288 with 1 Axes>"
      ]
     },
     "metadata": {
      "needs_background": "light"
     },
     "output_type": "display_data"
    }
   ],
   "source": [
    "from scipy.cluster.hierarchy import linkage,dendrogram,cut_tree\n",
    "link1=linkage(X,method='single')\n",
    "den1=dendrogram(link1)\n",
    "plt.show()"
   ]
  },
  {
   "cell_type": "code",
   "execution_count": 53,
   "metadata": {},
   "outputs": [],
   "source": [
    "from sklearn.cluster import AgglomerativeClustering,KMeans"
   ]
  },
  {
   "cell_type": "code",
   "execution_count": 61,
   "metadata": {},
   "outputs": [],
   "source": [
    "#kmeans=KMeans(n_clusters=5,init='k-means++',n_init=10,max_iter=300,random_state=0) # no of good cluster=5\n",
    "#y_kmeans=kmeans.fit_predict(X)\n",
    "\n",
    "\n",
    "hc=AgglomerativeClustering(n_clusters=5,affinity='euclidean',linkage='complete')\n",
    "y_hc=hc.fit_predict(X)"
   ]
  },
  {
   "cell_type": "code",
   "execution_count": 62,
   "metadata": {},
   "outputs": [
    {
     "data": {
      "text/plain": [
       "array([4, 3, 4, 3, 4, 3, 4, 3, 4, 3, 4, 3, 4, 3, 4, 3, 4, 3, 4, 3, 4, 3,\n",
       "       4, 3, 4, 3, 4, 3, 4, 3, 4, 3, 4, 3, 4, 3, 4, 3, 4, 3, 4, 3, 4, 1,\n",
       "       4, 1, 1, 1, 1, 1, 1, 1, 1, 1, 1, 1, 1, 1, 1, 1, 1, 1, 1, 1, 1, 1,\n",
       "       1, 1, 1, 1, 1, 1, 1, 1, 1, 1, 1, 1, 1, 1, 1, 1, 1, 1, 1, 1, 1, 1,\n",
       "       1, 1, 1, 1, 1, 1, 1, 1, 1, 1, 1, 1, 1, 1, 1, 1, 1, 1, 1, 1, 1, 1,\n",
       "       1, 1, 1, 1, 1, 1, 1, 1, 1, 1, 1, 1, 1, 0, 1, 0, 1, 0, 2, 0, 2, 0,\n",
       "       1, 0, 2, 0, 2, 0, 2, 0, 2, 0, 1, 0, 2, 0, 1, 0, 2, 0, 2, 0, 2, 0,\n",
       "       2, 0, 2, 0, 2, 0, 1, 0, 2, 0, 2, 0, 2, 0, 2, 0, 2, 0, 2, 0, 2, 0,\n",
       "       2, 0, 2, 0, 2, 0, 2, 0, 2, 0, 2, 0, 2, 0, 2, 0, 2, 0, 2, 0, 2, 0,\n",
       "       2, 0], dtype=int64)"
      ]
     },
     "execution_count": 62,
     "metadata": {},
     "output_type": "execute_result"
    }
   ],
   "source": [
    "y_hc"
   ]
  },
  {
   "cell_type": "code",
   "execution_count": 63,
   "metadata": {},
   "outputs": [
    {
     "data": {
      "text/html": [
       "<div>\n",
       "<style scoped>\n",
       "    .dataframe tbody tr th:only-of-type {\n",
       "        vertical-align: middle;\n",
       "    }\n",
       "\n",
       "    .dataframe tbody tr th {\n",
       "        vertical-align: top;\n",
       "    }\n",
       "\n",
       "    .dataframe thead th {\n",
       "        text-align: right;\n",
       "    }\n",
       "</style>\n",
       "<table border=\"1\" class=\"dataframe\">\n",
       "  <thead>\n",
       "    <tr style=\"text-align: right;\">\n",
       "      <th></th>\n",
       "      <th>Annual Income (k$)</th>\n",
       "      <th>Spending Score (1-100)</th>\n",
       "      <th>Cluster</th>\n",
       "    </tr>\n",
       "  </thead>\n",
       "  <tbody>\n",
       "    <tr>\n",
       "      <th>0</th>\n",
       "      <td>15</td>\n",
       "      <td>39</td>\n",
       "      <td>4</td>\n",
       "    </tr>\n",
       "    <tr>\n",
       "      <th>1</th>\n",
       "      <td>15</td>\n",
       "      <td>81</td>\n",
       "      <td>3</td>\n",
       "    </tr>\n",
       "    <tr>\n",
       "      <th>2</th>\n",
       "      <td>16</td>\n",
       "      <td>6</td>\n",
       "      <td>4</td>\n",
       "    </tr>\n",
       "    <tr>\n",
       "      <th>3</th>\n",
       "      <td>16</td>\n",
       "      <td>77</td>\n",
       "      <td>3</td>\n",
       "    </tr>\n",
       "    <tr>\n",
       "      <th>4</th>\n",
       "      <td>17</td>\n",
       "      <td>40</td>\n",
       "      <td>4</td>\n",
       "    </tr>\n",
       "  </tbody>\n",
       "</table>\n",
       "</div>"
      ],
      "text/plain": [
       "   Annual Income (k$)  Spending Score (1-100)  Cluster\n",
       "0                  15                      39        4\n",
       "1                  15                      81        3\n",
       "2                  16                       6        4\n",
       "3                  16                      77        3\n",
       "4                  17                      40        4"
      ]
     },
     "execution_count": 63,
     "metadata": {},
     "output_type": "execute_result"
    }
   ],
   "source": [
    "data1['Cluster']=y_hc\n",
    "data1.head()"
   ]
  },
  {
   "cell_type": "code",
   "execution_count": 64,
   "metadata": {},
   "outputs": [
    {
     "data": {
      "text/plain": [
       "array([[ 69,  91],\n",
       "       [ 70,  77],\n",
       "       [ 71,  95],\n",
       "       [ 71,  75],\n",
       "       [ 71,  75],\n",
       "       [ 72,  71],\n",
       "       [ 73,  88],\n",
       "       [ 73,  73],\n",
       "       [ 74,  72],\n",
       "       [ 75,  93],\n",
       "       [ 76,  87],\n",
       "       [ 77,  97],\n",
       "       [ 77,  74],\n",
       "       [ 78,  90],\n",
       "       [ 78,  88],\n",
       "       [ 78,  76],\n",
       "       [ 78,  89],\n",
       "       [ 78,  78],\n",
       "       [ 78,  73],\n",
       "       [ 79,  83],\n",
       "       [ 81,  93],\n",
       "       [ 85,  75],\n",
       "       [ 86,  95],\n",
       "       [ 87,  63],\n",
       "       [ 87,  75],\n",
       "       [ 87,  92],\n",
       "       [ 88,  86],\n",
       "       [ 88,  69],\n",
       "       [ 93,  90],\n",
       "       [ 97,  86],\n",
       "       [ 98,  88],\n",
       "       [ 99,  97],\n",
       "       [101,  68],\n",
       "       [103,  85],\n",
       "       [103,  69],\n",
       "       [113,  91],\n",
       "       [120,  79],\n",
       "       [126,  74],\n",
       "       [137,  83]], dtype=int64)"
      ]
     },
     "execution_count": 64,
     "metadata": {},
     "output_type": "execute_result"
    }
   ],
   "source": [
    "# I want to know cluster-1  people\n",
    "X[y_hc==0]   # values synatx\n",
    "\n",
    "# X =input\n",
    "# Y_kmeans= output"
   ]
  },
  {
   "cell_type": "code",
   "execution_count": 66,
   "metadata": {},
   "outputs": [
    {
     "data": {
      "image/png": "[encoded data removed]",
      "text/plain": [
       "<Figure size 432x288 with 1 Axes>"
      ]
     },
     "metadata": {
      "needs_background": "light"
     },
     "output_type": "display_data"
    }
   ],
   "source": [
    "plt.scatter(X[y_hc==0,0],X[y_hc==0,1],s=100,c='red',label='Cluster1')\n",
    "plt.scatter(X[y_hc==1,0],X[y_hc==1,1],s=100,c='blue',label='Cluster2')\n",
    "plt.scatter(X[y_hc==2,0],X[y_hc==2,1],s=100,c='green',label='Cluster3')\n",
    "plt.scatter(X[y_hc==3,0],X[y_hc==3,1],s=100,c='cyan',label='Cluster4')\n",
    "plt.scatter(X[y_hc==4,0],X[y_hc==4,1],s=100,c='m',label='Cluster5')\n",
    "plt.title('Hierarchical Cluster')\n",
    "plt.xlabel('Annula Income')\n",
    "plt.ylabel('spending score')\n",
    "plt.legend()\n",
    "plt.show()"
   ]
  },
  {
   "cell_type": "code",
   "execution_count": 67,
   "metadata": {},
   "outputs": [
    {
     "data": {
      "image/png": "[encoded data removed]",
      "text/plain": [
       "<Figure size 432x288 with 1 Axes>"
      ]
     },
     "metadata": {
      "needs_background": "light"
     },
     "output_type": "display_data"
    }
   ],
   "source": [
    "hc=AgglomerativeClustering(n_clusters=5,affinity='euclidean',linkage='single')\n",
    "y_hc=hc.fit_predict(X)\n",
    "plt.scatter(X[y_hc==0,0],X[y_hc==0,1],s=100,c='red',label='Cluster1')\n",
    "plt.scatter(X[y_hc==1,0],X[y_hc==1,1],s=100,c='blue',label='Cluster2')\n",
    "plt.scatter(X[y_hc==2,0],X[y_hc==2,1],s=100,c='green',label='Cluster3')\n",
    "plt.scatter(X[y_hc==3,0],X[y_hc==3,1],s=100,c='cyan',label='Cluster4')\n",
    "plt.scatter(X[y_hc==4,0],X[y_hc==4,1],s=100,c='m',label='Cluster5')\n",
    "plt.title('Hierarchical Cluster')\n",
    "plt.xlabel('Annula Income')\n",
    "plt.ylabel('spending score')\n",
    "plt.legend()\n",
    "plt.show()"
   ]
  },
  {
   "cell_type": "markdown",
   "metadata": {},
   "source": [
    "<img src=\"https://miro.medium.com/max/257/0*iozEcRXXWXbDMrdG.gif\" alt=\"Figure\" width=\"30%\">"
   ]
  },
  {
   "cell_type": "code",
   "execution_count": null,
   "metadata": {},
   "outputs": [],
   "source": []
  }
 ],
 "metadata": {
  "kernelspec": {
   "display_name": "Python 3",
   "language": "python",
   "name": "python3"
  },
  "language_info": {
   "codemirror_mode": {
    "name": "ipython",
    "version": 3
   },
   "file_extension": ".py",
   "mimetype": "text/x-python",
   "name": "python",
   "nbconvert_exporter": "python",
   "pygments_lexer": "ipython3",
   "version": "3.8.3"
  }
 },
 "nbformat": 4,
 "nbformat_minor": 4
}
